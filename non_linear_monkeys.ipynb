{
 "cells": [
  {
   "cell_type": "code",
   "execution_count": 1,
   "metadata": {},
   "outputs": [
    {
     "name": "stderr",
     "output_type": "stream",
     "text": [
      "/home/matteoc/miniconda3/envs/speech-meg/lib/python3.9/site-packages/tqdm/auto.py:21: TqdmWarning: IProgress not found. Please update jupyter and ipywidgets. See https://ipywidgets.readthedocs.io/en/stable/user_install.html\n",
      "  from .autonotebook import tqdm as notebook_tqdm\n"
     ]
    }
   ],
   "source": [
    "import numpy as np \n",
    "from scipy.io import loadmat\n",
    "import os\n",
    "from os.path import join as opj\n",
    "from h5py import File\n",
    "import pandas as pd\n",
    "\n",
    "# load CLIP from huggingface, load the first N images and extract the features\n",
    "from transformers import CLIPProcessor, CLIPModel\n",
    "import torch\n",
    "import tqdm\n",
    "from PIL import Image"
   ]
  },
  {
   "cell_type": "code",
   "execution_count": 2,
   "metadata": {},
   "outputs": [
    {
     "data": {
      "text/plain": [
       "['THINGS_normMUA_F.mat',\n",
       " 'THINGS_normMUA_N.mat',\n",
       " 'THINGS_MUA_trials_N.mat',\n",
       " 'THINGS_MUA_trials_F.mat',\n",
       " 'THINGS_normMUA.mat',\n",
       " 'things_imgs_F.mat']"
      ]
     },
     "execution_count": 2,
     "metadata": {},
     "output_type": "execute_result"
    }
   ],
   "source": [
    "base_path =\"/home/matteo/storage/THINGS_Monkey\"\n",
    "monkey = \"F\"\n",
    "os.listdir(base_path)"
   ]
  },
  {
   "cell_type": "code",
   "execution_count": 3,
   "metadata": {},
   "outputs": [],
   "source": [
    "things_imgs = File(opj(base_path,f'things_imgs_{monkey}.mat'))\n",
    "train_imgs = things_imgs['train_imgs']   # group object --> <HDF5 group \"/train_imgs\" (3 members)>\n",
    "test_imgs = things_imgs['test_imgs']\n"
   ]
  },
  {
   "cell_type": "code",
   "execution_count": 4,
   "metadata": {},
   "outputs": [],
   "source": [
    "def resolve_reference(hdf5_file, ref):\n",
    "    \"\"\"\n",
    "    Resolve an HDF5 dataset reference and convert it into a string.\n",
    "    \"\"\"\n",
    "    data = hdf5_file[ref][:]\n",
    "    return ''.join(chr(i) for i in data.flatten() if i > 0)"
   ]
  },
  {
   "cell_type": "code",
   "execution_count": 5,
   "metadata": {},
   "outputs": [],
   "source": [
    "train_classes = []\n",
    "train_local_paths = []\n",
    "train_things_paths = []\n",
    "\n",
    "test_classes = []\n",
    "test_local_paths = []\n",
    "test_things_paths = []\n",
    "\n",
    "with File(opj(base_path, f\"things_imgs_{monkey}.mat\")) as f:\n",
    "    train_imgs = f['train_imgs']\n",
    "    \n",
    "    train_classes = [resolve_reference(things_imgs, ref[0]) for ref in things_imgs['train_imgs']['class']]\n",
    "    train_local_paths = [resolve_reference(things_imgs, ref[0]) for ref in things_imgs['train_imgs']['local_path']]\n",
    "    train_things_paths = [resolve_reference(things_imgs, ref[0]) for ref in things_imgs['train_imgs']['things_path']]\n",
    "\n",
    "    test_classes = [resolve_reference(things_imgs, ref[0]) for ref in things_imgs['test_imgs']['class']]\n",
    "    test_local_paths = [resolve_reference(things_imgs, ref[0]) for ref in things_imgs['test_imgs']['local_path']]\n",
    "    test_things_paths = [resolve_reference(things_imgs, ref[0]) for ref in things_imgs['test_imgs']['things_path']]"
   ]
  },
  {
   "cell_type": "code",
   "execution_count": 6,
   "metadata": {},
   "outputs": [
    {
     "data": {
      "text/html": [
       "<div>\n",
       "<style scoped>\n",
       "    .dataframe tbody tr th:only-of-type {\n",
       "        vertical-align: middle;\n",
       "    }\n",
       "\n",
       "    .dataframe tbody tr th {\n",
       "        vertical-align: top;\n",
       "    }\n",
       "\n",
       "    .dataframe thead th {\n",
       "        text-align: right;\n",
       "    }\n",
       "</style>\n",
       "<table border=\"1\" class=\"dataframe\">\n",
       "  <thead>\n",
       "    <tr style=\"text-align: right;\">\n",
       "      <th></th>\n",
       "      <th>#trial_idx</th>\n",
       "      <th>#train_idx</th>\n",
       "      <th>#test_idx</th>\n",
       "      <th>#rep</th>\n",
       "      <th>#count</th>\n",
       "      <th>#correct</th>\n",
       "    </tr>\n",
       "  </thead>\n",
       "  <tbody>\n",
       "    <tr>\n",
       "      <th>0</th>\n",
       "      <td>1.0</td>\n",
       "      <td>16504.0</td>\n",
       "      <td>0.0</td>\n",
       "      <td>1.0</td>\n",
       "      <td>1.0</td>\n",
       "      <td>1.0</td>\n",
       "    </tr>\n",
       "    <tr>\n",
       "      <th>1</th>\n",
       "      <td>2.0</td>\n",
       "      <td>16470.0</td>\n",
       "      <td>0.0</td>\n",
       "      <td>1.0</td>\n",
       "      <td>2.0</td>\n",
       "      <td>1.0</td>\n",
       "    </tr>\n",
       "    <tr>\n",
       "      <th>2</th>\n",
       "      <td>3.0</td>\n",
       "      <td>15094.0</td>\n",
       "      <td>0.0</td>\n",
       "      <td>1.0</td>\n",
       "      <td>3.0</td>\n",
       "      <td>1.0</td>\n",
       "    </tr>\n",
       "    <tr>\n",
       "      <th>3</th>\n",
       "      <td>4.0</td>\n",
       "      <td>2514.0</td>\n",
       "      <td>0.0</td>\n",
       "      <td>1.0</td>\n",
       "      <td>4.0</td>\n",
       "      <td>1.0</td>\n",
       "    </tr>\n",
       "    <tr>\n",
       "      <th>4</th>\n",
       "      <td>5.0</td>\n",
       "      <td>4860.0</td>\n",
       "      <td>0.0</td>\n",
       "      <td>1.0</td>\n",
       "      <td>1.0</td>\n",
       "      <td>1.0</td>\n",
       "    </tr>\n",
       "    <tr>\n",
       "      <th>...</th>\n",
       "      <td>...</td>\n",
       "      <td>...</td>\n",
       "      <td>...</td>\n",
       "      <td>...</td>\n",
       "      <td>...</td>\n",
       "      <td>...</td>\n",
       "    </tr>\n",
       "    <tr>\n",
       "      <th>25243</th>\n",
       "      <td>25244.0</td>\n",
       "      <td>0.0</td>\n",
       "      <td>40.0</td>\n",
       "      <td>30.0</td>\n",
       "      <td>1.0</td>\n",
       "      <td>4.0</td>\n",
       "    </tr>\n",
       "    <tr>\n",
       "      <th>25244</th>\n",
       "      <td>25245.0</td>\n",
       "      <td>13906.0</td>\n",
       "      <td>0.0</td>\n",
       "      <td>1.0</td>\n",
       "      <td>2.0</td>\n",
       "      <td>4.0</td>\n",
       "    </tr>\n",
       "    <tr>\n",
       "      <th>25245</th>\n",
       "      <td>25246.0</td>\n",
       "      <td>470.0</td>\n",
       "      <td>0.0</td>\n",
       "      <td>1.0</td>\n",
       "      <td>3.0</td>\n",
       "      <td>4.0</td>\n",
       "    </tr>\n",
       "    <tr>\n",
       "      <th>25246</th>\n",
       "      <td>25247.0</td>\n",
       "      <td>15559.0</td>\n",
       "      <td>0.0</td>\n",
       "      <td>1.0</td>\n",
       "      <td>4.0</td>\n",
       "      <td>4.0</td>\n",
       "    </tr>\n",
       "    <tr>\n",
       "      <th>25247</th>\n",
       "      <td>25248.0</td>\n",
       "      <td>20602.0</td>\n",
       "      <td>0.0</td>\n",
       "      <td>1.0</td>\n",
       "      <td>1.0</td>\n",
       "      <td>4.0</td>\n",
       "    </tr>\n",
       "  </tbody>\n",
       "</table>\n",
       "<p>25248 rows × 6 columns</p>\n",
       "</div>"
      ],
      "text/plain": [
       "       #trial_idx  #train_idx  #test_idx  #rep  #count  #correct\n",
       "0             1.0     16504.0        0.0   1.0     1.0       1.0\n",
       "1             2.0     16470.0        0.0   1.0     2.0       1.0\n",
       "2             3.0     15094.0        0.0   1.0     3.0       1.0\n",
       "3             4.0      2514.0        0.0   1.0     4.0       1.0\n",
       "4             5.0      4860.0        0.0   1.0     1.0       1.0\n",
       "...           ...         ...        ...   ...     ...       ...\n",
       "25243     25244.0         0.0       40.0  30.0     1.0       4.0\n",
       "25244     25245.0     13906.0        0.0   1.0     2.0       4.0\n",
       "25245     25246.0       470.0        0.0   1.0     3.0       4.0\n",
       "25246     25247.0     15559.0        0.0   1.0     4.0       4.0\n",
       "25247     25248.0     20602.0        0.0   1.0     1.0       4.0\n",
       "\n",
       "[25248 rows x 6 columns]"
      ]
     },
     "execution_count": 6,
     "metadata": {},
     "output_type": "execute_result"
    }
   ],
   "source": [
    "trials = File(opj(base_path, f\"THINGS_MUA_trials_{monkey}.mat\"))\n",
    "df =pd.DataFrame(trials[\"ALLMAT\"][:].T, columns=[\"#trial_idx\", \"#train_idx\", \"#test_idx\", \"#rep\", \"#count\", \"#correct\"])\n",
    "\n",
    "df"
   ]
  },
  {
   "cell_type": "code",
   "execution_count": 7,
   "metadata": {},
   "outputs": [
    {
     "name": "stdout",
     "output_type": "stream",
     "text": [
      "(300, 25248, 1024)\n"
     ]
    }
   ],
   "source": [
    "# np.save('/srv/nfs-data/sisko/matteoc/monkeys/trials_allmua.npy', data)\n",
    "data = np.load('/srv/nfs-data/sisko/matteoc/monkeys/trials_allmua.npy')\n",
    "\n",
    "print(data.shape)"
   ]
  },
  {
   "cell_type": "markdown",
   "metadata": {},
   "source": [
    "## Extract Images"
   ]
  },
  {
   "cell_type": "code",
   "execution_count": 8,
   "metadata": {},
   "outputs": [],
   "source": [
    "thing_base_path = \"/home/matteo/storage/THINGS_img/\"\n",
    "N = 15000      # TODO: prenderli tutti (dati training)\n",
    "\n",
    "train_indices = df[df[\"#train_idx\"]!=0][\"#train_idx\"].values.astype(int) - 1\n",
    "test_indices = df[df[\"#test_idx\"]!=0][\"#test_idx\"].values.astype(int) - 1\n",
    "\n",
    "sorted_train_img_path = [train_things_paths[i] for i in train_indices]\n",
    "sorted_test_img_path = [test_things_paths[i] for i in test_indices]"
   ]
  },
  {
   "cell_type": "code",
   "execution_count": 17,
   "metadata": {},
   "outputs": [],
   "source": [
    "# device = \"cuda:3\" if torch.cuda.is_available() else \"cpu\"\n",
    "\n",
    "# model = CLIPModel.from_pretrained(\"openai/clip-vit-base-patch32\").to(device)\n",
    "# processor = CLIPProcessor.from_pretrained(\"openai/clip-vit-base-patch32\")\n",
    "\n",
    "# def extract_features(model, images):\n",
    "#     images = [Image.open(img).convert(\"RGB\") for img in images]\n",
    "#     inputs = processor(images= images, return_tensors=\"pt\", padding=True)\n",
    "#     inputs = {k: v.to(device) for k, v in inputs.items()}\n",
    "#     with torch.no_grad():\n",
    "#         outputs = model.get_image_features(**inputs)\n",
    "#     return outputs\n",
    "\n",
    "# batch = 256\n",
    "# train_features = []\n",
    "# test_features = []\n",
    "\n",
    "# for i in tqdm.trange(0, N, batch):\n",
    "#     features = extract_features(model, [opj(thing_base_path,\"THINGS\",\"Images\", img).replace(\"\\\\\",\"/\") for img in sorted_train_img_path[i:i+batch]])\n",
    "#     train_features.append(features.cpu().numpy())\n",
    "\n",
    "# for i in tqdm.trange(0, len(sorted_test_img_path), batch):\n",
    "#     features = extract_features(model, [opj(thing_base_path,\"THINGS\",\"Images\", img).replace(\"\\\\\",\"/\") for img in sorted_test_img_path[i:i+batch]])\n",
    "#     test_features.append(features.cpu().numpy())\n",
    "\n",
    "# train_features = np.concatenate(train_features, axis=0)[:N]\n",
    "# test_features = np.concatenate(test_features, axis=0)\n"
   ]
  },
  {
   "cell_type": "code",
   "execution_count": 9,
   "metadata": {},
   "outputs": [],
   "source": [
    "# np.save('/srv/nfs-data/sisko/matteoc/monkeys/train_features.npy', train_features)\n",
    "# np.save('/srv/nfs-data/sisko/matteoc/monkeys/test_features.npy', test_features)\n",
    "\n",
    "train_features = np.load('/srv/nfs-data/sisko/matteoc/monkeys/train_features.npy')\n",
    "test_features = np.load('/srv/nfs-data/sisko/matteoc/monkeys/test_features.npy')"
   ]
  },
  {
   "cell_type": "code",
   "execution_count": 10,
   "metadata": {},
   "outputs": [
    {
     "data": {
      "text/plain": [
       "((15000, 512), (3000, 512))"
      ]
     },
     "execution_count": 10,
     "metadata": {},
     "output_type": "execute_result"
    }
   ],
   "source": [
    "train_features.shape, test_features.shape"
   ]
  },
  {
   "cell_type": "code",
   "execution_count": 11,
   "metadata": {},
   "outputs": [
    {
     "name": "stdout",
     "output_type": "stream",
     "text": [
      "(300, 15000, 1024) (300, 3000, 1024)\n"
     ]
    }
   ],
   "source": [
    "neural_train_trial_idx = df[df[\"#train_idx\"]!=0][\"#trial_idx\"].values.astype(int) - 1\n",
    "neural_test_trial_idx = df[df[\"#test_idx\"]!=0][\"#trial_idx\"].values.astype(int) - 1\n",
    "\n",
    "train_neural = data[:,neural_train_trial_idx[:N]]      # prendo tutte le osservazioni --> no data[:,neural_train_trial_idx[:N]]     \n",
    "test_neural = data[:,neural_test_trial_idx]\n",
    "print(train_neural.shape, test_neural.shape)     # SHAPE: num_timepoints, observation, electrodes"
   ]
  },
  {
   "cell_type": "markdown",
   "metadata": {},
   "source": [
    "## Avg activity over repetitions"
   ]
  },
  {
   "cell_type": "code",
   "execution_count": 12,
   "metadata": {},
   "outputs": [
    {
     "name": "stderr",
     "output_type": "stream",
     "text": [
      "100%|██████████| 100/100 [00:01<00:00, 84.41it/s]"
     ]
    },
    {
     "name": "stdout",
     "output_type": "stream",
     "text": [
      "(300, 100, 1024) (100, 512) (100,)\n"
     ]
    },
    {
     "name": "stderr",
     "output_type": "stream",
     "text": [
      "\n"
     ]
    }
   ],
   "source": [
    "test_neural_avg = []\n",
    "test_features_avg = []\n",
    "selected_test_imgs = []\n",
    "for idx in tqdm.tqdm(np.unique(test_indices)):\n",
    "    test_neural_avg.append(test_neural[:,test_indices==idx].mean(1))\n",
    "    #same for the test features\n",
    "    test_features_avg.append(test_features[test_indices==idx].mean(0))\n",
    "    selected_test_imgs.append(np.array(sorted_test_img_path)[test_indices==idx][0])\n",
    "\n",
    "test_neural_avg = np.array(test_neural_avg).transpose(1,0,-1)\n",
    "test_features_avg = np.array(test_features_avg)\n",
    "selected_test_imgs = np.array(selected_test_imgs)\n",
    "\n",
    "print(test_neural_avg.shape, test_features_avg.shape, selected_test_imgs.shape)"
   ]
  },
  {
   "cell_type": "code",
   "execution_count": 13,
   "metadata": {},
   "outputs": [
    {
     "data": {
      "text/plain": [
       "((300, 100, 1024), (100, 512), (15000, 512), (300, 15000, 1024))"
      ]
     },
     "execution_count": 13,
     "metadata": {},
     "output_type": "execute_result"
    }
   ],
   "source": [
    "test_neural_avg.shape, test_features_avg.shape, train_features.shape, train_neural.shape     # TODO: primi 100 di prestimolo"
   ]
  },
  {
   "cell_type": "markdown",
   "metadata": {},
   "source": [
    "## Time Neural Network"
   ]
  },
  {
   "cell_type": "code",
   "execution_count": 14,
   "metadata": {},
   "outputs": [],
   "source": [
    "train_neural = train_neural[100:]  # (200, 15000, 1024)\n",
    "test_neural_avg = test_neural_avg[100:]  # (200, 100, 1024)"
   ]
  },
  {
   "cell_type": "code",
   "execution_count": 125,
   "metadata": {},
   "outputs": [],
   "source": [
    "import pytorch_lightning as pl\n",
    "import torch\n",
    "import torch.nn as nn\n",
    "import torch.nn.functional as F\n",
    "    \n",
    "\n",
    "class TemporalNeuralToFeature(pl.LightningModule):\n",
    "    def __init__(self, input_dim=1024, hidden_dim=768, output_dim=512, num_layers=1, tau=0.05, lr=1e-4):\n",
    "        super().__init__()\n",
    "\n",
    "        self.rnn = nn.LSTM(input_dim, hidden_dim, num_layers=num_layers,\n",
    "                          batch_first=True, bidirectional=False)\n",
    "        self.mlp = nn.Sequential(\n",
    "            nn.LayerNorm(hidden_dim),\n",
    "            nn.Linear(hidden_dim, output_dim),\n",
    "            nn.ReLU(),\n",
    "            nn.Dropout(0.5),\n",
    "            nn.Linear(output_dim, output_dim)\n",
    "        )\n",
    "        self.loss_fn = nn.MSELoss()\n",
    "        self.tau = tau\n",
    "        self.lr = lr\n",
    "        self.log_tau = nn.Parameter(torch.tensor(np.log(self.tau), dtype=torch.float32))\n",
    "\n",
    "    def forward(self, x):\n",
    "        rnn_out, _ = self.rnn(x)  # rnn_out: (batch, time, hidden)\n",
    "        final_hidden = rnn_out[:, -1, :]  \n",
    "        # final_hidden = torch.mean(rnn_out, dim=1)\n",
    "        return self.mlp(final_hidden)\n",
    "    \n",
    "    def cosine_similarity_matrix(self, A, B):\n",
    "        A_norm = F.normalize(A, dim=1)\n",
    "        B_norm = F.normalize(B, dim=1)\n",
    "        return torch.mm(A_norm, B_norm.T)\n",
    "\n",
    "    def contrastive_loss_nt(self, S, tau):\n",
    "        tau = torch.exp(self.log_tau)  \n",
    "        S_exp = torch.exp(S / tau)\n",
    "        loss = -torch.log(torch.diag(S_exp) / S_exp.sum(dim=1))\n",
    "        return loss.mean()\n",
    "\n",
    "    def training_step(self, batch, batch_idx):\n",
    "        x, y = batch\n",
    "        preds = self(x)\n",
    "        cos_matrix = self.cosine_similarity_matrix(preds, y)\n",
    "        loss = self.contrastive_loss_nt(cos_matrix, self.tau)\n",
    "        loss_mse = self.loss_fn(preds, y)\n",
    "        self.log(\"train_loss\", loss, prog_bar=True, on_step=False, on_epoch=True)\n",
    "        self.log(\"tau\", torch.exp(self.log_tau).item(), prog_bar=True)  \n",
    "        return loss\n",
    "    \n",
    "    def validation_step(self, batch, batch_idx):\n",
    "        x, y = batch\n",
    "        preds = self(x)\n",
    "        cos_matrix = self.cosine_similarity_matrix(preds, y)\n",
    "        loss = self.contrastive_loss_nt(cos_matrix, self.tau)\n",
    "        loss_mse = self.loss_fn(preds, y)\n",
    "        self.log(\"val_loss\", loss, on_epoch=True, prog_bar=True)\n",
    "        return loss\n",
    "\n",
    "    def configure_optimizers(self):\n",
    "        return torch.optim.Adam(self.parameters(), lr=self.lr)\n",
    "    \n",
    "\n",
    "class SimpleTCN(pl.LightningModule):\n",
    "    def __init__(self, input_dim=1024, output_dim=512, lr=1e-3, tau=0.05):\n",
    "        super().__init__()\n",
    "        self.conv = nn.Sequential(\n",
    "            nn.Conv1d(input_dim, 128, 5, padding=2),\n",
    "            nn.ReLU(),\n",
    "            nn.Conv1d(128, 128, 5, padding=2),\n",
    "            nn.ReLU(),\n",
    "            nn.AdaptiveAvgPool1d(1)\n",
    "        )\n",
    "        self.mlp = nn.Sequential(\n",
    "            nn.Linear(128, 256),\n",
    "            nn.ReLU(),\n",
    "            nn.Linear(256, output_dim)\n",
    "        )\n",
    "        self.loss_fn = nn.MSELoss()\n",
    "        self.lr = lr\n",
    "        self.tau = tau\n",
    "        self.log_tau = nn.Parameter(torch.tensor(np.log(self.tau), dtype=torch.float32))\n",
    "\n",
    "    def cosine_similarity_matrix(self, A, B):\n",
    "        A_norm = F.normalize(A, dim=1)\n",
    "        B_norm = F.normalize(B, dim=1)\n",
    "        return torch.mm(A_norm, B_norm.T)\n",
    "\n",
    "    def contrastive_loss_nt(self, S, tau):\n",
    "        tau = torch.exp(self.log_tau)  \n",
    "        S_exp = torch.exp(S / tau)\n",
    "        loss = -torch.log(torch.diag(S_exp) / S_exp.sum(dim=1))\n",
    "        return loss.mean()\n",
    "\n",
    "    def forward(self, x):\n",
    "        x = x.transpose(1, 2)  # (batch, 1024, 200)\n",
    "        x = self.conv(x).squeeze(-1)  # (batch, 128)\n",
    "        return self.mlp(x)\n",
    "\n",
    "    def training_step(self, batch, batch_idx):\n",
    "        x, y = batch\n",
    "        # loss = self.loss_fn(self(x), y)\n",
    "        cos_matrix = self.cosine_similarity_matrix(self(x), y)\n",
    "        loss = self.contrastive_loss_nt(cos_matrix, self.tau)\n",
    "        self.log(\"train_loss\", loss, on_epoch=True, prog_bar=True)\n",
    "        self.log(\"tau\", torch.exp(self.log_tau).item(), prog_bar=True)  \n",
    "        return loss\n",
    "\n",
    "    def validation_step(self, batch, batch_idx):\n",
    "        x, y = batch\n",
    "        # loss = self.loss_fn(self(x), y)\n",
    "        cos_matrix = self.cosine_similarity_matrix(self(x), y)\n",
    "        loss = self.contrastive_loss_nt(cos_matrix, self.tau)\n",
    "        self.log(\"val_loss\", loss, on_epoch=True, prog_bar=True)\n",
    "        return loss\n",
    "\n",
    "    def configure_optimizers(self):\n",
    "        return torch.optim.Adam(self.parameters(), lr=self.lr, weight_decay=1e-4)\n",
    "    \n",
    "\n",
    "\n"
   ]
  },
  {
   "cell_type": "code",
   "execution_count": 97,
   "metadata": {},
   "outputs": [],
   "source": [
    "import torch\n",
    "import torch.nn as nn\n",
    "import pytorch_lightning as pl\n",
    "\n",
    "class PositionalEncoding(nn.Module):\n",
    "    def __init__(self, d_model, max_len=500):\n",
    "        super().__init__()\n",
    "        pe = torch.zeros(max_len, d_model)\n",
    "        pos = torch.arange(0, max_len).unsqueeze(1).float()\n",
    "        div_term = torch.exp(torch.arange(0, d_model, 2).float() * (-torch.log(torch.tensor(10000.0)) / d_model))\n",
    "        pe[:, 0::2] = torch.sin(pos * div_term)\n",
    "        pe[:, 1::2] = torch.cos(pos * div_term)\n",
    "        self.pe = pe.unsqueeze(0)  # (1, max_len, d_model)\n",
    "\n",
    "    def forward(self, x):\n",
    "        x = x + self.pe[:, :x.size(1), :].to(x.device)\n",
    "        return x\n",
    "    \n",
    "\n",
    "class TransformerNeuralToFeature(pl.LightningModule):\n",
    "    def __init__(self, input_dim=1024, d_model=256, nhead=8, num_layers=4, output_dim=512, tau=0.05, lr=1e-3):\n",
    "        super().__init__()\n",
    "        \n",
    "        self.d_model = d_model\n",
    "        self.input_proj = nn.Linear(input_dim, self.d_model)\n",
    "        self.pos_encoding = PositionalEncoding(self.d_model)\n",
    "        \n",
    "        encoder_layer = nn.TransformerEncoderLayer(d_model=self.d_model, nhead=nhead, batch_first=True)\n",
    "        self.transformer = nn.TransformerEncoder(encoder_layer, num_layers=num_layers)\n",
    "        \n",
    "        self.pooling = nn.AdaptiveAvgPool1d(1)  # mean pooling across time\n",
    "        self.mlp = nn.Sequential(\n",
    "            nn.Linear(self.d_model, output_dim),\n",
    "            nn.ReLU(),\n",
    "            nn.Linear(output_dim, output_dim)\n",
    "        )\n",
    "        self.loss_fn = nn.MSELoss()\n",
    "        self.tau = tau\n",
    "        self.lr = lr\n",
    "        self.log_tau = nn.Parameter(torch.tensor(np.log(self.tau), dtype=torch.float32))\n",
    "\n",
    "    def forward(self, x):  # x: (batch, time, channels)\n",
    "        x = self.input_proj(x)         # → (batch, time, d_model)\n",
    "        x = self.pos_encoding(x)       # + positional encodings\n",
    "        x = self.transformer(x).reshape(x.shape[0], self.d_model, -1)       # → (batch, d_model, time)\n",
    "        x = self.pooling(x).squeeze(-1)              # mean pooling across time\n",
    "        return self.mlp(x)             # → (batch, output_dim)\n",
    "    \n",
    "    def cosine_similarity_matrix(self, A, B):\n",
    "        A_norm = F.normalize(A, dim=1)\n",
    "        B_norm = F.normalize(B, dim=1)\n",
    "        return torch.mm(A_norm, B_norm.T)\n",
    "\n",
    "    def contrastive_loss_nt(self, S, tau):\n",
    "        tau = torch.exp(self.log_tau)  \n",
    "        S_exp = torch.exp(S / tau)\n",
    "        loss = -torch.log(torch.diag(S_exp) / S_exp.sum(dim=1))\n",
    "        return loss.mean()\n",
    "\n",
    "    def training_step(self, batch, batch_idx):\n",
    "        x, y = batch\n",
    "        preds = self(x)\n",
    "        loss_mse = self.loss_fn(preds, y)\n",
    "        cos_matrix = self.cosine_similarity_matrix(preds, y)\n",
    "        loss = self.contrastive_loss_nt(cos_matrix, self.tau)\n",
    "        self.log(\"train_loss\", loss, prog_bar=True, on_epoch=True)\n",
    "        self.log(\"tau\", torch.exp(self.log_tau).item(), prog_bar=True) \n",
    "        return loss\n",
    "\n",
    "    def validation_step(self, batch, batch_idx):\n",
    "        x, y = batch\n",
    "        preds = self(x)\n",
    "        loss_mse = self.loss_fn(preds, y)\n",
    "        cos_matrix = self.cosine_similarity_matrix(preds, y)\n",
    "        loss = self.contrastive_loss_nt(cos_matrix, self.tau)\n",
    "        self.log(\"val_loss\", loss, prog_bar=True, on_epoch=True)\n",
    "        return loss\n",
    "\n",
    "    def configure_optimizers(self):\n",
    "        return torch.optim.Adam(self.parameters(), lr=self.lr)\n",
    "\n"
   ]
  },
  {
   "cell_type": "code",
   "execution_count": 98,
   "metadata": {},
   "outputs": [],
   "source": [
    "from torch.utils.data import TensorDataset, DataLoader\n",
    "from torch.utils.data import random_split\n",
    "from sklearn.preprocessing import StandardScaler\n",
    "\n",
    "batch_size = 256\n",
    "device = 'cuda:1'\n",
    "cuda_d = 1\n",
    "seed = 42\n",
    "\n",
    "X_train = train_neural.transpose(1, 0, 2)  \n",
    "Y_train = train_features  \n",
    "X_test = test_neural_avg.transpose(1, 0, 2)  # shape: (15000, 200, 1024)\n",
    "Y_test = test_features_avg \n",
    "\n",
    "scaler_X = StandardScaler()\n",
    "# X_reshaped = X_train.reshape(-1, X_train.shape[-1])  # (15000*200, 1024)\n",
    "X_reshaped = X_train.reshape(X_train.shape[0], -1)\n",
    "X_scaled = scaler_X.fit_transform(X_reshaped)\n",
    "X_train_tensor = torch.tensor(X_scaled.reshape(15000, 200, 1024), dtype=torch.float32, device=device)\n",
    "X_test_reshaped = X_test.reshape(X_test.shape[0], -1) \n",
    "X_test_scaled = scaler_X.fit_transform(X_test_reshaped)\n",
    "X_test_tensor = torch.tensor(X_test_scaled.reshape(100, 200, 1024), dtype=torch.float32, device=device)\n",
    "\n",
    "dataset = TensorDataset(X_train_tensor, torch.tensor(Y_train, dtype=torch.float32, device=device))\n",
    "test_dataset = TensorDataset(X_test_tensor, torch.tensor(Y_test, dtype=torch.float32, device=device))\n",
    "val_size = int(0.2 * len(dataset))  \n",
    "train_size = len(dataset) - val_size\n",
    "generator1 = torch.Generator().manual_seed(seed)\n",
    "train_dataset, val_dataset = random_split(dataset, [train_size, val_size], generator=generator1)\n",
    "\n",
    "train_loader = DataLoader(train_dataset, batch_size=batch_size, shuffle=True)\n",
    "val_loader = DataLoader(val_dataset, batch_size=batch_size, shuffle=False)\n",
    "test_loader = DataLoader(test_dataset, batch_size=batch_size, shuffle=False)"
   ]
  },
  {
   "cell_type": "code",
   "execution_count": 180,
   "metadata": {},
   "outputs": [],
   "source": [
    "from pytorch_lightning import Trainer\n",
    "from pytorch_lightning.loggers import CSVLogger\n",
    "from pytorch_lightning.callbacks import EarlyStopping\n",
    "import pytorch_lightning as pl\n",
    "import torch\n",
    "import torch.nn as nn\n",
    "import torch.nn.functional as F\n",
    "import geomloss \n",
    "\n",
    "\n",
    "class SoftMapping(pl.LightningModule):\n",
    "    def __init__(self, input_dim=1024, output_dim=512, lr=1e-3, tau=0.05):\n",
    "        super().__init__()\n",
    "\n",
    "        # self.attn_linear = nn.Linear(input_dim, 1)\n",
    "        self.attn_linear = nn.Sequential(\n",
    "            nn.Linear(input_dim, 256),\n",
    "            nn.ReLU(),\n",
    "            nn.Dropout(0.5),\n",
    "            nn.Linear(256, 1)\n",
    "        )\n",
    "        self.mlp = nn.Sequential(\n",
    "            nn.Linear(input_dim, output_dim)\n",
    "        )\n",
    "        self.loss_mse = nn.MSELoss()\n",
    "        self.lr = lr\n",
    "        self.tau = tau\n",
    "        self.log_tau = nn.Parameter(torch.tensor(np.log(tau), dtype=torch.float32))\n",
    "\n",
    "    def forward(self, x):     # shape: (batch, 200, 1024)\n",
    "        # attn_weights = torch.softmax(self.attn_linear(x), dim=1)\n",
    "        attn_weights = torch.sigmoid(self.attn_linear(x))\n",
    "        attn_out = torch.sum(attn_weights * x, dim=1)\n",
    "        # x_mean = x.mean(dim=1)  # (batch, 1024)\n",
    "        output = self.mlp(attn_out)\n",
    "        return output\n",
    "\n",
    "    def cosine_similarity_matrix(self, A, B):\n",
    "        A_norm = F.normalize(A, dim=1)\n",
    "        B_norm = F.normalize(B, dim=1)\n",
    "        return torch.mm(A_norm, B_norm.T)\n",
    "\n",
    "    def contrastive_loss_nt(self, S, tau):\n",
    "        tau = torch.exp(self.log_tau)  \n",
    "        S_exp = torch.exp(S / tau)\n",
    "        loss = -torch.log(torch.diag(S_exp) / S_exp.sum(dim=1))\n",
    "        return loss.mean()\n",
    "\n",
    "    def training_step(self, batch, batch_idx):\n",
    "        x, y = batch\n",
    "        # loss = self.loss_fn(self(x), y)\n",
    "        cos_matrix = self.cosine_similarity_matrix(self(x), y)\n",
    "        loss = self.contrastive_loss_nt(cos_matrix, self.tau)\n",
    "        self.log(\"train_loss\", loss, on_epoch=True, prog_bar=True)\n",
    "        self.log(\"tau\", torch.exp(self.log_tau).item(), prog_bar=True)  \n",
    "        return loss\n",
    "\n",
    "    def validation_step(self, batch, batch_idx):\n",
    "        x, y = batch\n",
    "        # loss = self.loss_cl(self(x), y)\n",
    "        cos_matrix = self.cosine_similarity_matrix(self(x), y)\n",
    "        loss = self.contrastive_loss_nt(cos_matrix, self.tau)\n",
    "        self.log(\"val_loss\", loss, on_epoch=True, prog_bar=True)\n",
    "        return loss\n",
    "\n",
    "    def configure_optimizers(self):\n",
    "        return torch.optim.Adam(self.parameters(), lr=self.lr, weight_decay=1e-4)\n",
    "    \n",
    "\n",
    "\n",
    "class LinearFlatTime(pl.LightningModule):\n",
    "    def __init__(self, input_dim=1024*200, output_dim=512, lr=1e-3, tau=0.05):\n",
    "        super().__init__()\n",
    "\n",
    "        self.linear = nn.Sequential(\n",
    "            nn.Linear(input_dim, output_dim)\n",
    "        )\n",
    "        self.loss_mse = nn.MSELoss()\n",
    "        self.lr = lr\n",
    "        self.tau = tau\n",
    "        self.log_tau = nn.Parameter(torch.tensor(np.log(tau), dtype=torch.float32))\n",
    "\n",
    "    def forward(self, x):     # shape: (batch, 200, 1024)\n",
    "        x = x.reshape(x.shape[0], -1)  \n",
    "        output = self.linear(x)\n",
    "        return output\n",
    "\n",
    "    def cosine_similarity_matrix(self, A, B):\n",
    "        A_norm = F.normalize(A, dim=1)\n",
    "        B_norm = F.normalize(B, dim=1)\n",
    "        return torch.mm(A_norm, B_norm.T)\n",
    "\n",
    "    def contrastive_loss_nt(self, S, tau):\n",
    "        tau = torch.exp(self.log_tau)  \n",
    "        S_exp = torch.exp(S / tau)\n",
    "        loss = -torch.log(torch.diag(S_exp) / S_exp.sum(dim=1))\n",
    "        return loss.mean()\n",
    "\n",
    "    def training_step(self, batch, batch_idx):\n",
    "        x, y = batch\n",
    "        # loss = self.loss_fn(self(x), y)\n",
    "        cos_matrix = self.cosine_similarity_matrix(self(x), y)\n",
    "        loss_cl = self.contrastive_loss_nt(cos_matrix, self.tau)\n",
    "        mse_loss = self.loss_mse(self(x), y)\n",
    "        self.log(\"train_loss\", mse_loss, on_epoch=True, prog_bar=True)\n",
    "        self.log(\"tau\", torch.exp(self.log_tau).item(), prog_bar=True)  \n",
    "        return mse_loss\n",
    "\n",
    "    def validation_step(self, batch, batch_idx):\n",
    "        x, y = batch\n",
    "        # loss = self.loss_cl(self(x), y)\n",
    "        cos_matrix = self.cosine_similarity_matrix(self(x), y)\n",
    "        loss_cl = self.contrastive_loss_nt(cos_matrix, self.tau)\n",
    "        mse_loss = self.loss_mse(self(x), y)\n",
    "        self.log(\"val_loss\", mse_loss, on_epoch=True, prog_bar=True)\n",
    "        return mse_loss\n",
    "\n",
    "    def configure_optimizers(self):\n",
    "        return torch.optim.Adam(self.parameters(), lr=self.lr, weight_decay=1e-4)\n",
    "    \n",
    "\n",
    "class MlpAvgTime(pl.LightningModule):\n",
    "    def __init__(self, input_dim=1024, output_dim=512, lr=1e-4, tau=0.05):\n",
    "        super().__init__()\n",
    "\n",
    "        self.mlp = nn.Sequential(\n",
    "            nn.Linear(input_dim, 768),\n",
    "            nn.ReLU(),\n",
    "            nn.Linear(768, output_dim)\n",
    "        )\n",
    "        self.linear = nn.Sequential(     # TODO: provare OT + CL in questo caso qua\n",
    "            nn.Linear(input_dim, output_dim)\n",
    "        )\n",
    "        self.loss_mse = nn.MSELoss()\n",
    "        self.lr = lr\n",
    "        self.tau = tau\n",
    "        self.log_tau = nn.Parameter(torch.tensor(np.log(tau), dtype=torch.float32))\n",
    "\n",
    "    def forward(self, x):     # shape: (batch, 200, 1024)\n",
    "        x = x.mean(dim=1)  \n",
    "        output = self.mlp(x)\n",
    "        return output\n",
    "\n",
    "    def cosine_similarity_matrix(self, A, B):\n",
    "        A_norm = F.normalize(A, dim=1)\n",
    "        B_norm = F.normalize(B, dim=1)\n",
    "        return torch.mm(A_norm, B_norm.T)\n",
    "\n",
    "    def contrastive_loss_nt(self, S, tau):\n",
    "        tau = torch.exp(self.log_tau)  \n",
    "        S_exp = torch.exp(S / tau)\n",
    "        loss = -torch.log(torch.diag(S_exp) / S_exp.sum(dim=1))\n",
    "        return loss.mean()\n",
    "\n",
    "    def training_step(self, batch, batch_idx):\n",
    "        x, y = batch\n",
    "        # loss = self.loss_fn(self(x), y)\n",
    "        cos_matrix = self.cosine_similarity_matrix(self(x), y)\n",
    "        loss_cl = self.contrastive_loss_nt(cos_matrix, self.tau)\n",
    "        mse_loss = self.loss_mse(self(x), y)\n",
    "        self.log(\"train_loss\", loss_cl, on_epoch=True, prog_bar=True)\n",
    "        self.log(\"tau\", torch.exp(self.log_tau).item(), prog_bar=True)  \n",
    "        return loss_cl\n",
    "\n",
    "    def validation_step(self, batch, batch_idx):\n",
    "        x, y = batch\n",
    "        # loss = self.loss_cl(self(x), y)\n",
    "        cos_matrix = self.cosine_similarity_matrix(self(x), y)\n",
    "        loss_cl = self.contrastive_loss_nt(cos_matrix, self.tau)\n",
    "        mse_loss = self.loss_mse(self(x), y)\n",
    "        self.log(\"val_loss\", loss_cl, on_epoch=True, prog_bar=True)\n",
    "        return loss_cl\n",
    "\n",
    "    def configure_optimizers(self):\n",
    "        return torch.optim.Adam(self.parameters(), lr=self.lr, weight_decay=1e-4)\n"
   ]
  },
  {
   "cell_type": "code",
   "execution_count": 181,
   "metadata": {},
   "outputs": [
    {
     "name": "stderr",
     "output_type": "stream",
     "text": [
      "Seed set to 42\n",
      "/home/matteoc/miniconda3/envs/speech-meg/lib/python3.9/site-packages/lightning_fabric/plugins/environments/slurm.py:191: The `srun` command is available on your system but is not used. HINT: If your intention is to run Lightning on SLURM, prepend your python command with `srun` like so: srun python /home/matteoc/miniconda3/envs/speech-meg/lib/python3 ...\n",
      "GPU available: True (cuda), used: True\n",
      "TPU available: False, using: 0 TPU cores\n",
      "IPU available: False, using: 0 IPUs\n",
      "HPU available: False, using: 0 HPUs\n",
      "LOCAL_RANK: 0 - CUDA_VISIBLE_DEVICES: [0,1,2,3]\n",
      "\n",
      "  | Name         | Type       | Params\n",
      "--------------------------------------------\n",
      "0 | attn_linear  | Sequential | 262 K \n",
      "1 | mlp          | Sequential | 524 K \n",
      "2 | loss_mse     | MSELoss    | 0     \n",
      "  | other params | n/a        | 1     \n",
      "--------------------------------------------\n",
      "787 K     Trainable params\n",
      "0         Non-trainable params\n",
      "787 K     Total params\n",
      "3.150     Total estimated model params size (MB)\n"
     ]
    },
    {
     "name": "stdout",
     "output_type": "stream",
     "text": [
      "                                                                            "
     ]
    },
    {
     "name": "stderr",
     "output_type": "stream",
     "text": [
      "/home/matteoc/miniconda3/envs/speech-meg/lib/python3.9/site-packages/pytorch_lightning/trainer/connectors/data_connector.py:441: The 'val_dataloader' does not have many workers which may be a bottleneck. Consider increasing the value of the `num_workers` argument` to `num_workers=255` in the `DataLoader` to improve performance.\n",
      "/home/matteoc/miniconda3/envs/speech-meg/lib/python3.9/site-packages/pytorch_lightning/trainer/connectors/data_connector.py:441: The 'train_dataloader' does not have many workers which may be a bottleneck. Consider increasing the value of the `num_workers` argument` to `num_workers=255` in the `DataLoader` to improve performance.\n",
      "/home/matteoc/miniconda3/envs/speech-meg/lib/python3.9/site-packages/pytorch_lightning/loops/fit_loop.py:293: The number of training batches (47) is smaller than the logging interval Trainer(log_every_n_steps=50). Set a lower value for log_every_n_steps if you want to see logs for the training epoch.\n"
     ]
    },
    {
     "name": "stdout",
     "output_type": "stream",
     "text": [
      "Epoch 0: 100%|██████████| 47/47 [00:00<00:00, 91.43it/s, v_num=5, train_loss_step=4.030, tau=0.0491, val_loss=4.150, train_loss_epoch=4.810]"
     ]
    },
    {
     "name": "stderr",
     "output_type": "stream",
     "text": [
      "Metric val_loss improved. New best score: 4.151\n"
     ]
    },
    {
     "name": "stdout",
     "output_type": "stream",
     "text": [
      "Epoch 1: 100%|██████████| 47/47 [00:00<00:00, 89.29it/s, v_num=5, train_loss_step=3.100, tau=0.0458, val_loss=3.570, train_loss_epoch=3.480]"
     ]
    },
    {
     "name": "stderr",
     "output_type": "stream",
     "text": [
      "Metric val_loss improved by 0.585 >= min_delta = 0.1. New best score: 3.566\n"
     ]
    },
    {
     "name": "stdout",
     "output_type": "stream",
     "text": [
      "Epoch 2: 100%|██████████| 47/47 [00:00<00:00, 89.48it/s, v_num=5, train_loss_step=2.520, tau=0.0427, val_loss=3.260, train_loss_epoch=2.750]"
     ]
    },
    {
     "name": "stderr",
     "output_type": "stream",
     "text": [
      "Metric val_loss improved by 0.301 >= min_delta = 0.1. New best score: 3.265\n"
     ]
    },
    {
     "name": "stdout",
     "output_type": "stream",
     "text": [
      "Epoch 3: 100%|██████████| 47/47 [00:00<00:00, 90.03it/s, v_num=5, train_loss_step=2.140, tau=0.0399, val_loss=3.140, train_loss_epoch=2.220] "
     ]
    },
    {
     "name": "stderr",
     "output_type": "stream",
     "text": [
      "Metric val_loss improved by 0.125 >= min_delta = 0.1. New best score: 3.140\n"
     ]
    },
    {
     "name": "stdout",
     "output_type": "stream",
     "text": [
      "Epoch 5: 100%|██████████| 47/47 [00:00<00:00, 90.94it/s, v_num=5, train_loss_step=1.500, tau=0.0354, val_loss=3.010, train_loss_epoch=1.500] "
     ]
    },
    {
     "name": "stderr",
     "output_type": "stream",
     "text": [
      "Metric val_loss improved by 0.133 >= min_delta = 0.1. New best score: 3.007\n"
     ]
    },
    {
     "name": "stdout",
     "output_type": "stream",
     "text": [
      "Epoch 15: 100%|██████████| 47/47 [00:00<00:00, 91.06it/s, v_num=5, train_loss_step=0.176, tau=0.024, val_loss=3.030, train_loss_epoch=0.188]  "
     ]
    },
    {
     "name": "stderr",
     "output_type": "stream",
     "text": [
      "Monitored metric val_loss did not improve in the last 10 records. Best score: 3.007. Signaling Trainer to stop.\n"
     ]
    },
    {
     "name": "stdout",
     "output_type": "stream",
     "text": [
      "Epoch 15: 100%|██████████| 47/47 [00:00<00:00, 81.79it/s, v_num=5, train_loss_step=0.176, tau=0.024, val_loss=3.030, train_loss_epoch=0.188]\n"
     ]
    }
   ],
   "source": [
    "pl.seed_everything(seed, workers=True)\n",
    "model = SoftMapping()\n",
    "logger = CSVLogger(\"/home/matteoc/nlinear-monkeys/logs/\", name=\"my_model\")\n",
    "early_stop_callback = EarlyStopping(monitor=\"val_loss\", min_delta=0.10, patience=10, verbose=True, mode=\"min\")\n",
    "trainer = Trainer(max_epochs=35, devices=[cuda_d], logger=logger, callbacks=[early_stop_callback])  # Usa GPU se disponibile, 35 epoche per il SoftMapping\n",
    "trainer.fit(model, train_loader, val_loader)"
   ]
  },
  {
   "cell_type": "code",
   "execution_count": 182,
   "metadata": {},
   "outputs": [
    {
     "data": {
      "image/png": "[encoded data removed]",
      "text/plain": [
       "<Figure size 800x500 with 1 Axes>"
      ]
     },
     "metadata": {},
     "output_type": "display_data"
    }
   ],
   "source": [
    "import pandas as pd\n",
    "import matplotlib.pyplot as plt\n",
    "\n",
    "log_path = logger.log_dir + \"/metrics.csv\"\n",
    "df = pd.read_csv(log_path)\n",
    "\n",
    "val_loss_df = df[~df[\"val_loss\"].isna()]\n",
    "train_loss_df = df[~df[\"train_loss_epoch\"].isna()]\n",
    "plt.figure(figsize=(8, 5))\n",
    "plt.plot(np.array(train_loss_df[\"epoch\"]), np.array(train_loss_df[\"train_loss_epoch\"]), label=\"Train Loss\")\n",
    "plt.plot(np.array(val_loss_df[\"epoch\"]), np.array(val_loss_df[\"val_loss\"]), label=\"Val Loss\")\n",
    "plt.xlabel(\"Epoch\")\n",
    "plt.ylabel(\"MSE Loss\")\n",
    "plt.title(\"Training vs Validation Loss\")\n",
    "plt.legend()\n",
    "plt.grid(True)\n",
    "plt.tight_layout()\n",
    "plt.show()"
   ]
  },
  {
   "cell_type": "code",
   "execution_count": null,
   "metadata": {},
   "outputs": [],
   "source": [
    "# SoftMapping(\n",
    "#   (attn_linear): Sequential(\n",
    "#     (0): Linear(in_features=1024, out_features=256, bias=True)\n",
    "#     (1): ReLU()\n",
    "#     (2): Dropout(p=0.5, inplace=False)\n",
    "#     (3): Linear(in_features=256, out_features=1, bias=True)\n",
    "#   )\n",
    "#   (mlp): Sequential(\n",
    "#     (0): Linear(in_features=1024, out_features=512, bias=True)\n",
    "#   )\n",
    "#   (contrastive_loss): Learnable Tau\n",
    "# )\n",
    "\n",
    "\n",
    "\n",
    "# SoftMapping --> nonLinear/time **\n",
    "# Top-1 accuracy: 68/100 (68.00%)       \n",
    "# Top-3 accuracy: 91/100 (91.00%)    \n",
    "\n",
    "# Baseline - Matteo --> linear/avgTime\n",
    "# Top-1 accuracy: 57/100 (57.00%)\n",
    "# Top-3 accuracy: 89/100 (89.00%)\n",
    "\n",
    "# Baseline CL --> linear/flatTime\n",
    "# Top-1 accuracy: 51/100 (51.00%)\n",
    "# Top-3 accuracy: 84/100 (84.00%)\n",
    "\n",
    "# Baseline CL --> nonLinear/avgTime\n",
    "# Top-1 accuracy: 59/100 (59.00%)\n",
    "# Top-3 accuracy: 86/100 (86.00%)\n",
    "\n",
    "# Baseline MSE --> nonLinear/avgTime\n",
    "# Top-1 accuracy: 29/100 (29.00%)\n",
    "# Top-3 accuracy: 54/100 (54.00%)\n",
    "\n",
    "# SoftMapping - MSE\n",
    "# Top-1 accuracy: 31/100 (31.00%)\n",
    "# Top-3 accuracy: 66/100 (66.00%)\n",
    "\n",
    "# SimpleTCN\n",
    "# Top-1 accuracy: 49/100 (49.00%)\n",
    "# Top-3 accuracy: 85/100 (85.00%)\n",
    "\n",
    "# TempralNeuraToFeature (GRU)\n",
    "# Top-1 accuracy: 27/100 (27.00%)\n",
    "# Top-3 accuracy: 61/100 (61.00%)\n",
    "\n",
    "# TransformerNeuralToFeature\n",
    "# Top-1 accuracy: 34/100 (34.00%)\n",
    "# Top-3 accuracy: 72/100 (72.00%)"
   ]
  },
  {
   "cell_type": "code",
   "execution_count": 184,
   "metadata": {},
   "outputs": [],
   "source": [
    "# tgt_dir = \"/srv/nfs-data/sisko/matteoc/monkeys/\"\n",
    "# torch.save(model.state_dict(), f\"{tgt_dir}/softmapping_state_dict.pt\")\n",
    "# torch.save(model.attn_linear.state_dict(), f\"{tgt_dir}/attn_linear.pt\")\n",
    "# torch.save(model.mlp.state_dict(), f\"{tgt_dir}/mlp.pt\")\n",
    "# print(model.tau)\n",
    "# print(model.lr)\n",
    "\n",
    "# clone_model = SoftMapping(input_dim=1024, output_dim=512, lr=1e-3, tau=0.05).to(device)\n",
    "# state_dict = torch.load(f\"{tgt_dir}/softmapping_state_dict.pt\")\n",
    "# attn_linear_state_dict = torch.load(f\"{tgt_dir}/attn_linear.pt\")\n",
    "# mlp_state_dict = torch.load(f\"{tgt_dir}/mlp.pt\")\n",
    "# clone_model.load_state_dict(state_dict)\n",
    "# clone_model.attn_linear.load_state_dict(attn_linear_state_dict)\n",
    "# clone_model.mlp.load_state_dict(mlp_state_dict)\n",
    "\n",
    "# with torch.no_grad():\n",
    "#     for x, y in test_loader:\n",
    "#         model_original = model.to(device)\n",
    "#         y_hat_original = model_original(x)\n",
    "#         y_hat_clone = clone_model(x)\n",
    "#         assert torch.allclose(y_hat_original, y_hat_clone, atol=1e-6), \"Mismatch negli output!\"\n",
    "#         break"
   ]
  },
  {
   "cell_type": "code",
   "execution_count": 185,
   "metadata": {},
   "outputs": [],
   "source": [
    "# TODO: \n",
    "\n",
    "# - fare una PCA rispetto alla dimensione degli elettrodi, e valutare come aumentando la dimensione (aumenta info degli elettrodi) aumentano le performance;\n",
    "# - provare una linear regression sulle dimensioni flattizzate (timepoints indipendenti - lineare/tempo) --> le performance dovrebbero essere peggio\n",
    "# - provare una mlp sul dato neurale dove la dimensione tempo è mediata (nonlineare/nontempo)\n",
    "# - (nonlineare/tempo) è quella che ho applicato io, (lineare/nontempo) è la baseline di Matteo"
   ]
  },
  {
   "cell_type": "code",
   "execution_count": 186,
   "metadata": {},
   "outputs": [
    {
     "name": "stderr",
     "output_type": "stream",
     "text": [
      "100%|██████████| 1/1 [00:00<00:00, 87.74it/s]\n"
     ]
    }
   ],
   "source": [
    "x,y=next(iter(test_loader))\n",
    "\n",
    "y_pred=[]\n",
    "y_true=[]\n",
    "\n",
    "with torch.no_grad():\n",
    "    for x,y in tqdm.tqdm(test_loader):\n",
    "        clone_model_ent = model.to(device)\n",
    "        y_hat = clone_model_ent(x)\n",
    "        y_true.append(y)\n",
    "        y_pred.append(y_hat)\n",
    "y_pred=torch.cat(y_pred,0)\n",
    "y_true=torch.cat(y_true,0)"
   ]
  },
  {
   "cell_type": "code",
   "execution_count": 187,
   "metadata": {},
   "outputs": [
    {
     "name": "stdout",
     "output_type": "stream",
     "text": [
      "Top-1 accuracy: 68/100 (68.00%)\n",
      "Top-3 accuracy: 91/100 (91.00%)\n"
     ]
    }
   ],
   "source": [
    "from sklearn.neighbors import NearestNeighbors\n",
    "\n",
    "y_true_np = y_true.cpu().numpy()\n",
    "y_pred_np = y_pred.cpu().numpy()\n",
    "nbrs = NearestNeighbors(n_neighbors=5, metric='cosine').fit(y_true_np)\n",
    "\n",
    "distances, top_indices = nbrs.kneighbors(y_pred_np)\n",
    "true_indices = torch.arange(len(y_true_np)).cpu().numpy()\n",
    "\n",
    "top1_count = (top_indices[:, 0] == true_indices).sum()\n",
    "top3_count = sum(true_idx in top_indices[i] for i, true_idx in enumerate(true_indices))\n",
    "\n",
    "print(f\"Top-1 accuracy: {top1_count}/{len(y_true_np)} ({top1_count / len(y_true_np) * 100:.2f}%)\")\n",
    "print(f\"Top-3 accuracy: {top3_count}/{len(y_true_np)} ({top3_count / len(y_true_np) * 100:.2f}%)\")"
   ]
  },
  {
   "cell_type": "code",
   "execution_count": null,
   "metadata": {},
   "outputs": [],
   "source": []
  },
  {
   "cell_type": "code",
   "execution_count": null,
   "metadata": {},
   "outputs": [],
   "source": []
  },
  {
   "cell_type": "code",
   "execution_count": null,
   "metadata": {},
   "outputs": [],
   "source": []
  },
  {
   "cell_type": "code",
   "execution_count": null,
   "metadata": {},
   "outputs": [],
   "source": []
  }
 ],
 "metadata": {
  "kernelspec": {
   "display_name": "speech-meg",
   "language": "python",
   "name": "python3"
  },
  "language_info": {
   "codemirror_mode": {
    "name": "ipython",
    "version": 3
   },
   "file_extension": ".py",
   "mimetype": "text/x-python",
   "name": "python",
   "nbconvert_exporter": "python",
   "pygments_lexer": "ipython3",
   "version": "3.9.16"
  }
 },
 "nbformat": 4,
 "nbformat_minor": 2
}
