{
 "cells": [
  {
   "cell_type": "code",
   "execution_count": 1,
   "metadata": {},
   "outputs": [
    {
     "name": "stderr",
     "output_type": "stream",
     "text": [
      "/home/matteoc/miniconda3/envs/speech-meg/lib/python3.9/site-packages/tqdm/auto.py:21: TqdmWarning: IProgress not found. Please update jupyter and ipywidgets. See https://ipywidgets.readthedocs.io/en/stable/user_install.html\n",
      "  from .autonotebook import tqdm as notebook_tqdm\n"
     ]
    }
   ],
   "source": [
    "import numpy as np \n",
    "from scipy.io import loadmat\n",
    "import os\n",
    "from os.path import join as opj\n",
    "from h5py import File\n",
    "import pandas as pd\n",
    "\n",
    "# load CLIP from huggingface, load the first N images and extract the features\n",
    "from transformers import CLIPProcessor, CLIPModel\n",
    "import torch\n",
    "import tqdm\n",
    "from PIL import Image"
   ]
  },
  {
   "cell_type": "code",
   "execution_count": 13,
   "metadata": {},
   "outputs": [
    {
     "data": {
      "text/plain": [
       "['THINGS_normMUA_F.mat',\n",
       " 'THINGS_normMUA_N.mat',\n",
       " 'THINGS_MUA_trials_F.mat',\n",
       " 'THINGS_normMUA.mat',\n",
       " 'things_imgs_F.mat',\n",
       " 'things_imgs_N.mat',\n",
       " 'THINGS_MUA_trials_N_old.mat']"
      ]
     },
     "execution_count": 13,
     "metadata": {},
     "output_type": "execute_result"
    }
   ],
   "source": [
    "storage_path = \"/home/matteo/storage\"\n",
    "\n",
    "base_path = storage_path + \"/THINGS_Monkey\"\n",
    "thing_base_path = storage_path + \"/THINGS_img/\"\n",
    "\n",
    "data_path = \"/srv/nfs-data/sisko/matteoc\"\n",
    "monkey = \"N\"\n",
    "os.listdir(base_path)"
   ]
  },
  {
   "cell_type": "code",
   "execution_count": 3,
   "metadata": {},
   "outputs": [],
   "source": [
    "things_imgs = File(opj(base_path,f'things_imgs_{monkey}.mat'))\n",
    "train_imgs = things_imgs['train_imgs']   # group object --> <HDF5 group \"/train_imgs\" (3 members)>\n",
    "test_imgs = things_imgs['test_imgs']\n"
   ]
  },
  {
   "cell_type": "code",
   "execution_count": 4,
   "metadata": {},
   "outputs": [],
   "source": [
    "def resolve_reference(hdf5_file, ref):\n",
    "    \"\"\"\n",
    "    Resolve an HDF5 dataset reference and convert it into a string.\n",
    "    \"\"\"\n",
    "    data = hdf5_file[ref][:]\n",
    "    return ''.join(chr(i) for i in data.flatten() if i > 0)"
   ]
  },
  {
   "cell_type": "code",
   "execution_count": 5,
   "metadata": {},
   "outputs": [],
   "source": [
    "train_classes = []\n",
    "train_local_paths = []\n",
    "train_things_paths = []\n",
    "\n",
    "test_classes = []\n",
    "test_local_paths = []\n",
    "test_things_paths = []\n",
    "\n",
    "with File(opj(base_path, f\"things_imgs_{monkey}.mat\")) as f:\n",
    "    train_imgs = f['train_imgs']\n",
    "    \n",
    "    train_classes = [resolve_reference(things_imgs, ref[0]) for ref in things_imgs['train_imgs']['class']]\n",
    "    train_local_paths = [resolve_reference(things_imgs, ref[0]) for ref in things_imgs['train_imgs']['local_path']]\n",
    "    train_things_paths = [resolve_reference(things_imgs, ref[0]) for ref in things_imgs['train_imgs']['things_path']]\n",
    "\n",
    "    test_classes = [resolve_reference(things_imgs, ref[0]) for ref in things_imgs['test_imgs']['class']]\n",
    "    test_local_paths = [resolve_reference(things_imgs, ref[0]) for ref in things_imgs['test_imgs']['local_path']]\n",
    "    test_things_paths = [resolve_reference(things_imgs, ref[0]) for ref in things_imgs['test_imgs']['things_path']]"
   ]
  },
  {
   "cell_type": "code",
   "execution_count": 10,
   "metadata": {},
   "outputs": [
    {
     "data": {
      "text/html": [
       "<div>\n",
       "<style scoped>\n",
       "    .dataframe tbody tr th:only-of-type {\n",
       "        vertical-align: middle;\n",
       "    }\n",
       "\n",
       "    .dataframe tbody tr th {\n",
       "        vertical-align: top;\n",
       "    }\n",
       "\n",
       "    .dataframe thead th {\n",
       "        text-align: right;\n",
       "    }\n",
       "</style>\n",
       "<table border=\"1\" class=\"dataframe\">\n",
       "  <thead>\n",
       "    <tr style=\"text-align: right;\">\n",
       "      <th></th>\n",
       "      <th>#trial_idx</th>\n",
       "      <th>#train_idx</th>\n",
       "      <th>#test_idx</th>\n",
       "      <th>#rep</th>\n",
       "      <th>#count</th>\n",
       "      <th>#correct</th>\n",
       "    </tr>\n",
       "  </thead>\n",
       "  <tbody>\n",
       "    <tr>\n",
       "      <th>0</th>\n",
       "      <td>1.0</td>\n",
       "      <td>16504.0</td>\n",
       "      <td>0.0</td>\n",
       "      <td>1.0</td>\n",
       "      <td>1.0</td>\n",
       "      <td>1.0</td>\n",
       "    </tr>\n",
       "    <tr>\n",
       "      <th>1</th>\n",
       "      <td>2.0</td>\n",
       "      <td>16470.0</td>\n",
       "      <td>0.0</td>\n",
       "      <td>1.0</td>\n",
       "      <td>2.0</td>\n",
       "      <td>1.0</td>\n",
       "    </tr>\n",
       "    <tr>\n",
       "      <th>2</th>\n",
       "      <td>3.0</td>\n",
       "      <td>15094.0</td>\n",
       "      <td>0.0</td>\n",
       "      <td>1.0</td>\n",
       "      <td>1.0</td>\n",
       "      <td>1.0</td>\n",
       "    </tr>\n",
       "    <tr>\n",
       "      <th>3</th>\n",
       "      <td>4.0</td>\n",
       "      <td>2514.0</td>\n",
       "      <td>0.0</td>\n",
       "      <td>1.0</td>\n",
       "      <td>2.0</td>\n",
       "      <td>1.0</td>\n",
       "    </tr>\n",
       "    <tr>\n",
       "      <th>4</th>\n",
       "      <td>5.0</td>\n",
       "      <td>4860.0</td>\n",
       "      <td>0.0</td>\n",
       "      <td>1.0</td>\n",
       "      <td>3.0</td>\n",
       "      <td>1.0</td>\n",
       "    </tr>\n",
       "    <tr>\n",
       "      <th>...</th>\n",
       "      <td>...</td>\n",
       "      <td>...</td>\n",
       "      <td>...</td>\n",
       "      <td>...</td>\n",
       "      <td>...</td>\n",
       "      <td>...</td>\n",
       "    </tr>\n",
       "    <tr>\n",
       "      <th>25243</th>\n",
       "      <td>25244.0</td>\n",
       "      <td>0.0</td>\n",
       "      <td>40.0</td>\n",
       "      <td>30.0</td>\n",
       "      <td>3.0</td>\n",
       "      <td>4.0</td>\n",
       "    </tr>\n",
       "    <tr>\n",
       "      <th>25244</th>\n",
       "      <td>25245.0</td>\n",
       "      <td>13906.0</td>\n",
       "      <td>0.0</td>\n",
       "      <td>1.0</td>\n",
       "      <td>4.0</td>\n",
       "      <td>4.0</td>\n",
       "    </tr>\n",
       "    <tr>\n",
       "      <th>25245</th>\n",
       "      <td>25246.0</td>\n",
       "      <td>470.0</td>\n",
       "      <td>0.0</td>\n",
       "      <td>1.0</td>\n",
       "      <td>1.0</td>\n",
       "      <td>4.0</td>\n",
       "    </tr>\n",
       "    <tr>\n",
       "      <th>25246</th>\n",
       "      <td>25247.0</td>\n",
       "      <td>15559.0</td>\n",
       "      <td>0.0</td>\n",
       "      <td>1.0</td>\n",
       "      <td>2.0</td>\n",
       "      <td>4.0</td>\n",
       "    </tr>\n",
       "    <tr>\n",
       "      <th>25247</th>\n",
       "      <td>25248.0</td>\n",
       "      <td>20602.0</td>\n",
       "      <td>0.0</td>\n",
       "      <td>1.0</td>\n",
       "      <td>1.0</td>\n",
       "      <td>4.0</td>\n",
       "    </tr>\n",
       "  </tbody>\n",
       "</table>\n",
       "<p>25248 rows × 6 columns</p>\n",
       "</div>"
      ],
      "text/plain": [
       "       #trial_idx  #train_idx  #test_idx  #rep  #count  #correct\n",
       "0             1.0     16504.0        0.0   1.0     1.0       1.0\n",
       "1             2.0     16470.0        0.0   1.0     2.0       1.0\n",
       "2             3.0     15094.0        0.0   1.0     1.0       1.0\n",
       "3             4.0      2514.0        0.0   1.0     2.0       1.0\n",
       "4             5.0      4860.0        0.0   1.0     3.0       1.0\n",
       "...           ...         ...        ...   ...     ...       ...\n",
       "25243     25244.0         0.0       40.0  30.0     3.0       4.0\n",
       "25244     25245.0     13906.0        0.0   1.0     4.0       4.0\n",
       "25245     25246.0       470.0        0.0   1.0     1.0       4.0\n",
       "25246     25247.0     15559.0        0.0   1.0     2.0       4.0\n",
       "25247     25248.0     20602.0        0.0   1.0     1.0       4.0\n",
       "\n",
       "[25248 rows x 6 columns]"
      ]
     },
     "execution_count": 10,
     "metadata": {},
     "output_type": "execute_result"
    }
   ],
   "source": [
    "if monkey == \"F\":\n",
    "   trials = File(opj(base_path, f\"THINGS_MUA_trials_{monkey}.mat\"))\n",
    "else:\n",
    "   trials = File(opj(data_path, f\"monkeys/data_{monkey}/THINGS_MUA_trials.mat\"))\n",
    "df =pd.DataFrame(trials[\"ALLMAT\"][:].T, columns=[\"#trial_idx\", \"#train_idx\", \"#test_idx\", \"#rep\", \"#count\", \"#correct\"])\n",
    "\n",
    "df"
   ]
  },
  {
   "cell_type": "code",
   "execution_count": 11,
   "metadata": {},
   "outputs": [],
   "source": [
    "data = trials[\"ALLMUA\"][:]"
   ]
  },
  {
   "cell_type": "code",
   "execution_count": null,
   "metadata": {},
   "outputs": [
    {
     "name": "stdout",
     "output_type": "stream",
     "text": [
      "(300, 25248, 1024)\n"
     ]
    }
   ],
   "source": [
    "# np.save(data_path + '/monkeys/trials_allmua.npy', data)\n",
    "# data = np.load(data_path + '/monkeys/trials_allmua.npy')\n",
    "\n",
    "# print(data.shape)"
   ]
  },
  {
   "cell_type": "markdown",
   "metadata": {},
   "source": [
    "## Extract Images"
   ]
  },
  {
   "cell_type": "code",
   "execution_count": null,
   "metadata": {},
   "outputs": [],
   "source": [
    "N = 15000   \n",
    "\n",
    "train_indices = df[df[\"#train_idx\"]!=0][\"#train_idx\"].values.astype(int) - 1\n",
    "test_indices = df[df[\"#test_idx\"]!=0][\"#test_idx\"].values.astype(int) - 1\n",
    "\n",
    "sorted_train_img_path = [train_things_paths[i] for i in train_indices]\n",
    "sorted_test_img_path = [test_things_paths[i] for i in test_indices]"
   ]
  },
  {
   "cell_type": "code",
   "execution_count": 9,
   "metadata": {},
   "outputs": [
    {
     "name": "stderr",
     "output_type": "stream",
     "text": [
      "/home/matteoc/miniconda3/envs/speech-meg/lib/python3.9/site-packages/torch/_utils.py:831: UserWarning: TypedStorage is deprecated. It will be removed in the future and UntypedStorage will be the only storage class. This should only matter to you if you are using storages directly.  To access UntypedStorage directly, use tensor.untyped_storage() instead of tensor.storage()\n",
      "  return self.fget.__get__(instance, owner)()\n",
      "100%|██████████| 59/59 [13:34<00:00, 13.80s/it]\n",
      "100%|██████████| 12/12 [00:31<00:00,  2.64s/it]\n"
     ]
    }
   ],
   "source": [
    "device = \"cuda:3\" if torch.cuda.is_available() else \"cpu\"\n",
    "\n",
    "model = CLIPModel.from_pretrained(\"openai/clip-vit-base-patch32\").to(device)\n",
    "processor = CLIPProcessor.from_pretrained(\"openai/clip-vit-base-patch32\")\n",
    "\n",
    "def extract_features(model, images):\n",
    "    images = [Image.open(img).convert(\"RGB\") for img in images]\n",
    "    inputs = processor(images= images, return_tensors=\"pt\", padding=True)\n",
    "    inputs = {k: v.to(device) for k, v in inputs.items()}\n",
    "    with torch.no_grad():\n",
    "        outputs = model.get_image_features(**inputs)\n",
    "    return outputs\n",
    "\n",
    "batch = 256\n",
    "train_features = []\n",
    "test_features = []\n",
    "\n",
    "for i in tqdm.trange(0, N, batch):\n",
    "    features = extract_features(model, [opj(thing_base_path,\"THINGS\",\"Images\", img).replace(\"\\\\\",\"/\") for img in sorted_train_img_path[i:i+batch]])\n",
    "    train_features.append(features.cpu().numpy())\n",
    "\n",
    "for i in tqdm.trange(0, len(sorted_test_img_path), batch):\n",
    "    features = extract_features(model, [opj(thing_base_path,\"THINGS\",\"Images\", img).replace(\"\\\\\",\"/\") for img in sorted_test_img_path[i:i+batch]])\n",
    "    test_features.append(features.cpu().numpy())\n",
    "\n",
    "train_features = np.concatenate(train_features, axis=0)[:N]\n",
    "test_features = np.concatenate(test_features, axis=0)\n"
   ]
  },
  {
   "cell_type": "code",
   "execution_count": 15,
   "metadata": {},
   "outputs": [],
   "source": [
    "# train_features = np.load(data_path + '/monkeys/train_features.npy')\n",
    "# test_features = np.load(data_path + '/monkeys/test_features.npy')\n",
    "\n",
    "train_features = np.load(data_path + '/monkeys/data_N/train_features_N.npy')\n",
    "test_features = np.load(data_path + '/monkeys/data_N/test_features_N.npy')"
   ]
  },
  {
   "cell_type": "code",
   "execution_count": 16,
   "metadata": {},
   "outputs": [
    {
     "data": {
      "text/plain": [
       "((15000, 512), (3000, 512))"
      ]
     },
     "execution_count": 16,
     "metadata": {},
     "output_type": "execute_result"
    }
   ],
   "source": [
    "train_features.shape, test_features.shape"
   ]
  },
  {
   "cell_type": "code",
   "execution_count": 17,
   "metadata": {},
   "outputs": [
    {
     "name": "stdout",
     "output_type": "stream",
     "text": [
      "(300, 15000, 1024) (300, 3000, 1024)\n"
     ]
    }
   ],
   "source": [
    "neural_train_trial_idx = df[df[\"#train_idx\"]!=0][\"#trial_idx\"].values.astype(int) - 1\n",
    "neural_test_trial_idx = df[df[\"#test_idx\"]!=0][\"#trial_idx\"].values.astype(int) - 1\n",
    "\n",
    "train_neural = data[:,neural_train_trial_idx[:N]]      \n",
    "test_neural = data[:,neural_test_trial_idx]\n",
    "print(train_neural.shape, test_neural.shape)     # SHAPE: num_timepoints, observation, electrodes"
   ]
  },
  {
   "cell_type": "markdown",
   "metadata": {},
   "source": [
    "## Avg activity over repetitions"
   ]
  },
  {
   "cell_type": "code",
   "execution_count": 18,
   "metadata": {},
   "outputs": [
    {
     "name": "stderr",
     "output_type": "stream",
     "text": [
      "100%|██████████| 100/100 [00:01<00:00, 87.75it/s]\n"
     ]
    },
    {
     "name": "stdout",
     "output_type": "stream",
     "text": [
      "(300, 100, 1024) (100, 512) (100,)\n"
     ]
    }
   ],
   "source": [
    "test_neural_avg = []\n",
    "test_features_avg = []\n",
    "selected_test_imgs = []\n",
    "for idx in tqdm.tqdm(np.unique(test_indices)):\n",
    "    test_neural_avg.append(test_neural[:,test_indices==idx].mean(1))\n",
    "    #same for the test features\n",
    "    test_features_avg.append(test_features[test_indices==idx].mean(0))\n",
    "    selected_test_imgs.append(np.array(sorted_test_img_path)[test_indices==idx][0])\n",
    "\n",
    "test_neural_avg = np.array(test_neural_avg).transpose(1,0,-1)\n",
    "test_features_avg = np.array(test_features_avg)\n",
    "selected_test_imgs = np.array(selected_test_imgs)\n",
    "\n",
    "print(test_neural_avg.shape, test_features_avg.shape, selected_test_imgs.shape)"
   ]
  },
  {
   "cell_type": "code",
   "execution_count": 19,
   "metadata": {},
   "outputs": [
    {
     "data": {
      "text/plain": [
       "((300, 100, 1024), (100, 512), (15000, 512), (300, 15000, 1024))"
      ]
     },
     "execution_count": 19,
     "metadata": {},
     "output_type": "execute_result"
    }
   ],
   "source": [
    "test_neural_avg.shape, test_features_avg.shape, train_features.shape, train_neural.shape     # TODO: primi 100 di prestimolo"
   ]
  },
  {
   "cell_type": "markdown",
   "metadata": {},
   "source": [
    "## Time Neural Network"
   ]
  },
  {
   "cell_type": "code",
   "execution_count": 20,
   "metadata": {},
   "outputs": [],
   "source": [
    "train_neural = train_neural[100:]  # (200, 15000, 1024)\n",
    "test_neural_avg = test_neural_avg[100:]  # (200, 100, 1024)"
   ]
  },
  {
   "cell_type": "code",
   "execution_count": null,
   "metadata": {},
   "outputs": [],
   "source": [
    "# train_neural = np.load(data_path + '/monkeys/train_neural_retr.npy')\n",
    "# test_neural_avg = np.load(data_path + '/monkeys/test_neural_avg_retr.npy')"
   ]
  },
  {
   "cell_type": "code",
   "execution_count": 21,
   "metadata": {},
   "outputs": [],
   "source": [
    "import pytorch_lightning as pl\n",
    "import torch\n",
    "import torch.nn as nn\n",
    "import torch.nn.functional as F\n",
    "    \n",
    "\n",
    "class TemporalNeuralToFeature(pl.LightningModule):\n",
    "    def __init__(self, input_dim=1024, hidden_dim=768, output_dim=512, num_layers=1, tau=0.05, lr=1e-3, \n",
    "                 loss_type=\"contrastive\"):\n",
    "        super().__init__()\n",
    "\n",
    "        self.rnn = nn.LSTM(input_dim, hidden_dim, num_layers=num_layers,\n",
    "                          batch_first=True, bidirectional=False)\n",
    "        self.mlp = nn.Sequential(\n",
    "            nn.LayerNorm(hidden_dim),\n",
    "            nn.Linear(hidden_dim, output_dim),\n",
    "            nn.GELU(),\n",
    "            nn.Dropout(0.5),\n",
    "            nn.Linear(output_dim, output_dim)\n",
    "        )\n",
    "        self.loss_mse = nn.MSELoss()\n",
    "        self.tau = tau\n",
    "        self.lr = lr\n",
    "        self.loss_type = loss_type\n",
    "        self.log_tau = nn.Parameter(torch.tensor(np.log(self.tau), dtype=torch.float32))\n",
    "\n",
    "    def forward(self, x):\n",
    "        rnn_out, _ = self.rnn(x)  # rnn_out: (batch, time, hidden)\n",
    "        final_hidden = rnn_out[:, -1, :]  \n",
    "        # final_hidden = torch.mean(rnn_out, dim=1)\n",
    "        return self.mlp(final_hidden)\n",
    "    \n",
    "    def cosine_similarity_matrix(self, A, B):\n",
    "        A_norm = F.normalize(A, dim=1)\n",
    "        B_norm = F.normalize(B, dim=1)\n",
    "        return torch.mm(A_norm, B_norm.T)\n",
    "\n",
    "    def contrastive_loss_nt(self, S, tau):\n",
    "        tau = torch.exp(self.log_tau)  \n",
    "        S_exp = torch.exp(S / tau)\n",
    "        loss = -torch.log(torch.diag(S_exp) / S_exp.sum(dim=1))\n",
    "        return loss.mean()\n",
    "\n",
    "    def training_step(self, batch, batch_idx):\n",
    "        x, y = batch\n",
    "        preds = self(x)\n",
    "        if self.loss_type == \"mse\":\n",
    "            loss = self.loss_mse(preds, y)\n",
    "        else:\n",
    "            cos_matrix = self.cosine_similarity_matrix(preds, y)\n",
    "            loss = self.contrastive_loss_nt(cos_matrix, self.tau)\n",
    "        self.log(\"train_loss\", loss, prog_bar=True, on_step=False, on_epoch=True)\n",
    "        self.log(\"tau\", torch.exp(self.log_tau).item(), prog_bar=True)  \n",
    "        return loss\n",
    "    \n",
    "    def validation_step(self, batch, batch_idx):\n",
    "        x, y = batch\n",
    "        preds = self(x)\n",
    "        if self.loss_type == \"mse\":\n",
    "            loss = self.loss_mse(preds, y)\n",
    "        else:\n",
    "            cos_matrix = self.cosine_similarity_matrix(preds, y)\n",
    "            loss = self.contrastive_loss_nt(cos_matrix, self.tau)\n",
    "        self.log(\"val_loss\", loss, on_epoch=True, prog_bar=True)\n",
    "        return loss\n",
    "\n",
    "    def configure_optimizers(self):\n",
    "        return torch.optim.Adam(self.parameters(), lr=self.lr)\n",
    "    \n",
    "\n",
    "class SimpleTCN(pl.LightningModule):\n",
    "    def __init__(self, input_dim=1024, output_dim=512, lr=1e-3, tau=0.05, \n",
    "                 loss_type=\"contrastive\"):     # 1e-3\n",
    "        super().__init__()\n",
    "        self.conv = nn.Sequential(\n",
    "            nn.Conv1d(input_dim, 128, 5, padding=2),\n",
    "            nn.ReLU(),\n",
    "            nn.Conv1d(128, 128, 5, padding=2),\n",
    "            nn.ReLU(),\n",
    "            nn.AdaptiveAvgPool1d(1)\n",
    "        )\n",
    "        self.mlp = nn.Sequential(\n",
    "            nn.Linear(128, 256),\n",
    "            nn.ReLU(),\n",
    "            nn.Linear(256, output_dim)\n",
    "        )\n",
    "        self.loss_mse = nn.MSELoss()\n",
    "        self.loss_type = loss_type\n",
    "        self.lr = lr\n",
    "        self.tau = tau\n",
    "        self.log_tau = nn.Parameter(torch.tensor(np.log(self.tau), dtype=torch.float32))\n",
    "\n",
    "    def cosine_similarity_matrix(self, A, B):\n",
    "        A_norm = F.normalize(A, dim=1)\n",
    "        B_norm = F.normalize(B, dim=1)\n",
    "        return torch.mm(A_norm, B_norm.T)\n",
    "\n",
    "    def contrastive_loss_nt(self, S, tau):\n",
    "        tau = torch.exp(self.log_tau)  \n",
    "        S_exp = torch.exp(S / tau)\n",
    "        loss = -torch.log(torch.diag(S_exp) / S_exp.sum(dim=1))\n",
    "        return loss.mean()\n",
    "\n",
    "    def forward(self, x):\n",
    "        x = x.transpose(1, 2)  # (batch, 1024, 200)\n",
    "        x = self.conv(x).squeeze(-1)  # (batch, 128)\n",
    "        return self.mlp(x)\n",
    "\n",
    "    def training_step(self, batch, batch_idx):\n",
    "        x, y = batch\n",
    "        if self.loss_type == \"mse\":\n",
    "            loss = self.loss_mse(self(x), y)\n",
    "        else:\n",
    "            cos_matrix = self.cosine_similarity_matrix(self(x), y)\n",
    "            loss = self.contrastive_loss_nt(cos_matrix, self.tau)\n",
    "        \n",
    "        self.log(\"train_loss\", loss, on_epoch=True, prog_bar=True)\n",
    "        self.log(\"tau\", torch.exp(self.log_tau).item(), prog_bar=True)  \n",
    "        return loss\n",
    "\n",
    "    def validation_step(self, batch, batch_idx):\n",
    "        x, y = batch\n",
    "        if self.loss_type == \"mse\":\n",
    "            loss = self.loss_mse(self(x), y)\n",
    "        else:\n",
    "            cos_matrix = self.cosine_similarity_matrix(self(x), y)\n",
    "            loss = self.contrastive_loss_nt(cos_matrix, self.tau)\n",
    "            \n",
    "        self.log(\"val_loss\", loss, on_epoch=True, prog_bar=True)\n",
    "        return loss\n",
    "\n",
    "    def configure_optimizers(self):\n",
    "        return torch.optim.Adam(self.parameters(), lr=self.lr, weight_decay=1e-4)\n",
    "    \n",
    "\n",
    "\n"
   ]
  },
  {
   "cell_type": "code",
   "execution_count": 22,
   "metadata": {},
   "outputs": [],
   "source": [
    "import torch\n",
    "import torch.nn as nn\n",
    "import pytorch_lightning as pl\n",
    "\n",
    "class PositionalEncoding(nn.Module):\n",
    "    def __init__(self, d_model, max_len=500):\n",
    "        super().__init__()\n",
    "        pe = torch.zeros(max_len, d_model)\n",
    "        pos = torch.arange(0, max_len).unsqueeze(1).float()\n",
    "        div_term = torch.exp(torch.arange(0, d_model, 2).float() * (-torch.log(torch.tensor(10000.0)) / d_model))\n",
    "        pe[:, 0::2] = torch.sin(pos * div_term)\n",
    "        pe[:, 1::2] = torch.cos(pos * div_term)\n",
    "        self.pe = pe.unsqueeze(0)  # (1, max_len, d_model)\n",
    "\n",
    "    def forward(self, x):\n",
    "        x = x + self.pe[:, :x.size(1), :].to(x.device)\n",
    "        return x\n",
    "    \n",
    "\n",
    "class TransformerNeuralToFeature(pl.LightningModule):\n",
    "    def __init__(self, input_dim=1024, d_model=256, nhead=8, num_layers=4, output_dim=512, tau=0.05, lr=1e-3):\n",
    "        super().__init__()\n",
    "        \n",
    "        self.d_model = d_model\n",
    "        self.input_proj = nn.Linear(input_dim, self.d_model)\n",
    "        self.pos_encoding = PositionalEncoding(self.d_model)\n",
    "        \n",
    "        encoder_layer = nn.TransformerEncoderLayer(d_model=self.d_model, nhead=nhead, batch_first=True)\n",
    "        self.transformer = nn.TransformerEncoder(encoder_layer, num_layers=num_layers)\n",
    "        \n",
    "        self.pooling = nn.AdaptiveAvgPool1d(1)  # mean pooling across time\n",
    "        self.mlp = nn.Sequential(\n",
    "            nn.Linear(self.d_model, output_dim),\n",
    "            nn.ReLU(),\n",
    "            nn.Linear(output_dim, output_dim)\n",
    "        )\n",
    "        self.loss_fn = nn.MSELoss()\n",
    "        self.tau = tau\n",
    "        self.lr = lr\n",
    "        self.log_tau = nn.Parameter(torch.tensor(np.log(self.tau), dtype=torch.float32))\n",
    "\n",
    "    def forward(self, x):  # x: (batch, time, channels)\n",
    "        x = self.input_proj(x)         # → (batch, time, d_model)\n",
    "        x = self.pos_encoding(x)       # + positional encodings\n",
    "        x = self.transformer(x).reshape(x.shape[0], self.d_model, -1)       # → (batch, d_model, time)\n",
    "        x = self.pooling(x).squeeze(-1)              # mean pooling across time\n",
    "        return self.mlp(x)             # → (batch, output_dim)\n",
    "    \n",
    "    def cosine_similarity_matrix(self, A, B):\n",
    "        A_norm = F.normalize(A, dim=1)\n",
    "        B_norm = F.normalize(B, dim=1)\n",
    "        return torch.mm(A_norm, B_norm.T)\n",
    "\n",
    "    def contrastive_loss_nt(self, S, tau):\n",
    "        tau = torch.exp(self.log_tau)  \n",
    "        S_exp = torch.exp(S / tau)\n",
    "        loss = -torch.log(torch.diag(S_exp) / S_exp.sum(dim=1))\n",
    "        return loss.mean()\n",
    "\n",
    "    def training_step(self, batch, batch_idx):\n",
    "        x, y = batch\n",
    "        preds = self(x)\n",
    "        loss_mse = self.loss_fn(preds, y)\n",
    "        cos_matrix = self.cosine_similarity_matrix(preds, y)\n",
    "        loss = self.contrastive_loss_nt(cos_matrix, self.tau)\n",
    "        self.log(\"train_loss\", loss, prog_bar=True, on_epoch=True)\n",
    "        self.log(\"tau\", torch.exp(self.log_tau).item(), prog_bar=True) \n",
    "        return loss\n",
    "\n",
    "    def validation_step(self, batch, batch_idx):\n",
    "        x, y = batch\n",
    "        preds = self(x)\n",
    "        loss_mse = self.loss_fn(preds, y)\n",
    "        cos_matrix = self.cosine_similarity_matrix(preds, y)\n",
    "        loss = self.contrastive_loss_nt(cos_matrix, self.tau)\n",
    "        self.log(\"val_loss\", loss, prog_bar=True, on_epoch=True)\n",
    "        return loss\n",
    "\n",
    "    def configure_optimizers(self):\n",
    "        return torch.optim.Adam(self.parameters(), lr=self.lr)\n",
    "\n"
   ]
  },
  {
   "cell_type": "code",
   "execution_count": 23,
   "metadata": {},
   "outputs": [],
   "source": [
    "from torch.utils.data import TensorDataset, DataLoader\n",
    "from torch.utils.data import random_split\n",
    "from sklearn.preprocessing import StandardScaler\n",
    "\n",
    "batch_size = 128\n",
    "device = 'cuda:3'\n",
    "cuda_d = 3\n",
    "\n",
    "X_train = train_neural.transpose(1, 0, 2)  \n",
    "Y_train = train_features  \n",
    "X_test = test_neural_avg.transpose(1, 0, 2)  # shape: (15000, 200, 1024)\n",
    "Y_test = test_features_avg \n",
    "\n",
    "scaler_X = StandardScaler()\n",
    "X_reshaped = X_train.reshape(-1, X_train.shape[-1])  \n",
    "# X_reshaped = X_train.reshape(X_train.shape[0], -1)\n",
    "X_scaled = scaler_X.fit_transform(X_reshaped)\n",
    "X_train_tensor = torch.tensor(X_scaled.reshape(15000, 200, 1024), dtype=torch.float32, device=device)\n",
    "X_test_reshaped = X_test.reshape(-1, X_test.shape[-1]) \n",
    "X_test_scaled = scaler_X.transform(X_test_reshaped)\n",
    "X_test_tensor = torch.tensor(X_test_scaled.reshape(100, 200, 1024), dtype=torch.float32, device=device)\n"
   ]
  },
  {
   "cell_type": "code",
   "execution_count": 24,
   "metadata": {},
   "outputs": [],
   "source": [
    "dataset = TensorDataset(X_train_tensor, torch.tensor(Y_train, dtype=torch.float32, device=device))\n",
    "test_dataset = TensorDataset(X_test_tensor, torch.tensor(Y_test, dtype=torch.float32, device=device))\n",
    "val_size = int(0.2 * len(dataset))  \n",
    "train_size = len(dataset) - val_size\n",
    "generator1 = torch.Generator().manual_seed(42)\n",
    "train_dataset, val_dataset = random_split(dataset, [train_size, val_size], generator=generator1)\n",
    "\n",
    "train_loader = DataLoader(train_dataset, batch_size=batch_size, shuffle=True)\n",
    "val_loader = DataLoader(val_dataset, batch_size=batch_size, shuffle=False)\n",
    "test_loader = DataLoader(test_dataset, batch_size=batch_size, shuffle=False)"
   ]
  },
  {
   "cell_type": "code",
   "execution_count": 25,
   "metadata": {},
   "outputs": [],
   "source": [
    "from pytorch_lightning import Trainer\n",
    "from pytorch_lightning.loggers import CSVLogger\n",
    "from pytorch_lightning.callbacks import EarlyStopping\n",
    "import pytorch_lightning as pl\n",
    "import torch\n",
    "import torch.nn as nn\n",
    "import torch.nn.functional as F\n",
    "import geomloss \n",
    "\n",
    "\n",
    "class LinearFlatTime(pl.LightningModule):\n",
    "    def __init__(self, input_dim=1024*200, output_dim=512, lr=1e-3, tau=0.05, loss_type=\"contrastive\"):\n",
    "        super().__init__()\n",
    "\n",
    "        self.linear = nn.Sequential(\n",
    "            nn.Linear(input_dim, output_dim)\n",
    "        )\n",
    "        self.loss_mse = nn.MSELoss()\n",
    "        self.lr = lr\n",
    "        self.tau = tau\n",
    "        self.loss_type = loss_type\n",
    "        self.log_tau = nn.Parameter(torch.tensor(np.log(tau), dtype=torch.float32))\n",
    "\n",
    "    def forward(self, x):     # shape: (batch, 200, 1024)\n",
    "        x = x.reshape(x.shape[0], -1)  \n",
    "        output = self.linear(x)\n",
    "        return output\n",
    "\n",
    "    def cosine_similarity_matrix(self, A, B):\n",
    "        A_norm = F.normalize(A, dim=1)\n",
    "        B_norm = F.normalize(B, dim=1)\n",
    "        return torch.mm(A_norm, B_norm.T)\n",
    "\n",
    "    def contrastive_loss_nt(self, S, tau):\n",
    "        tau = torch.exp(self.log_tau)  \n",
    "        S_exp = torch.exp(S / tau)\n",
    "        loss = -torch.log(torch.diag(S_exp) / S_exp.sum(dim=1))\n",
    "        return loss.mean()\n",
    "\n",
    "    def training_step(self, batch, batch_idx):\n",
    "        x, y = batch\n",
    "        if self.loss_type == \"mse\":\n",
    "            loss = self.loss_mse(self(x), y)\n",
    "        else:\n",
    "            cos_matrix = self.cosine_similarity_matrix(self(x), y)\n",
    "            loss = self.contrastive_loss_nt(cos_matrix, self.tau)\n",
    "\n",
    "        self.log(\"train_loss\", loss, on_epoch=True, prog_bar=True)\n",
    "        self.log(\"tau\", torch.exp(self.log_tau).item(), prog_bar=True)  \n",
    "        return loss\n",
    "\n",
    "    def validation_step(self, batch, batch_idx):\n",
    "        x, y = batch\n",
    "        if self.loss_type == \"mse\":\n",
    "            loss = self.loss_mse(self(x), y)\n",
    "        else:\n",
    "            cos_matrix = self.cosine_similarity_matrix(self(x), y)\n",
    "            loss = self.contrastive_loss_nt(cos_matrix, self.tau)\n",
    "\n",
    "        self.log(\"val_loss\", loss, on_epoch=True, prog_bar=True)\n",
    "        return loss\n",
    "\n",
    "    def configure_optimizers(self):\n",
    "        return torch.optim.Adam(self.parameters(), lr=self.lr, weight_decay=1e-4)\n",
    "    \n",
    "\n",
    "\n",
    "class MlpAvgTime(pl.LightningModule):\n",
    "    def __init__(self, \n",
    "                 input_dim=1024, \n",
    "                 output_dim=512, \n",
    "                 lr=1e-3, \n",
    "                 tau=0.05,\n",
    "                 loss_type=\"contrastive\", \n",
    "                 projector_type=\"linear\" \n",
    "                ):\n",
    "        super().__init__()\n",
    "\n",
    "        self.save_hyperparameters()\n",
    "\n",
    "        self.mlp = nn.Sequential(\n",
    "            nn.Linear(input_dim, 768),\n",
    "            nn.GELU(),\n",
    "            nn.Dropout(0.5),\n",
    "            nn.Linear(768, output_dim)\n",
    "        )\n",
    "\n",
    "        self.linear = nn.Sequential(\n",
    "            nn.Linear(input_dim, output_dim)\n",
    "        )\n",
    "\n",
    "        self.loss_mse = nn.MSELoss()\n",
    "        self.lr = lr\n",
    "        self.tau = tau\n",
    "        self.loss_type = loss_type\n",
    "        self.projector_type = projector_type\n",
    "        self.log_tau = nn.Parameter(torch.tensor(np.log(tau), dtype=torch.float32))\n",
    "\n",
    "    def forward(self, x):  # shape: (batch, 200, 1024)\n",
    "        x = x.mean(dim=1)\n",
    "        if self.projector_type == \"mlp\":\n",
    "            return self.mlp(x)\n",
    "        else:\n",
    "            return self.linear(x)\n",
    "\n",
    "    def cosine_similarity_matrix(self, A, B):\n",
    "        A_norm = F.normalize(A, dim=1)\n",
    "        B_norm = F.normalize(B, dim=1)\n",
    "        return torch.mm(A_norm, B_norm.T)\n",
    "\n",
    "    def contrastive_loss_nt(self, S, tau):\n",
    "        tau = torch.exp(self.log_tau)\n",
    "        S_exp = torch.exp(S / tau)\n",
    "        loss = -torch.log(torch.diag(S_exp) / S_exp.sum(dim=1))\n",
    "        return loss.mean()\n",
    "\n",
    "    def training_step(self, batch, batch_idx):\n",
    "        x, y = batch\n",
    "        output = self(x)\n",
    "        if self.loss_type == \"mse\":\n",
    "            loss = self.loss_mse(output, y)\n",
    "        else:\n",
    "            cos_matrix = self.cosine_similarity_matrix(output, y)\n",
    "            loss = self.contrastive_loss_nt(cos_matrix, self.tau)\n",
    "\n",
    "        self.log(\"train_loss\", loss, on_epoch=True, prog_bar=True)\n",
    "        self.log(\"tau\", torch.exp(self.log_tau).item(), prog_bar=True)\n",
    "        return loss\n",
    "\n",
    "    def validation_step(self, batch, batch_idx):\n",
    "        x, y = batch\n",
    "        output = self(x)\n",
    "        if self.loss_type == \"mse\":\n",
    "            loss = self.loss_mse(output, y)\n",
    "        else:\n",
    "            cos_matrix = self.cosine_similarity_matrix(output, y)\n",
    "            loss = self.contrastive_loss_nt(cos_matrix, self.tau)\n",
    "\n",
    "        self.log(\"val_loss\", loss, on_epoch=True, prog_bar=True)\n",
    "        return loss\n",
    "\n",
    "    def configure_optimizers(self):\n",
    "        return torch.optim.Adam(self.parameters(), lr=self.lr, weight_decay=1e-4)\n"
   ]
  },
  {
   "cell_type": "code",
   "execution_count": 26,
   "metadata": {},
   "outputs": [],
   "source": [
    "class SoftMapping(pl.LightningModule):\n",
    "    def __init__(self, input_dim=1024, output_dim=512, lr=1e-3, \n",
    "                 tau=0.05, loss_type=\"contrastive\", projector_type=\"linear\"):   # 1e-3 \n",
    "        super().__init__()\n",
    "\n",
    "        self.mlp = nn.Sequential(\n",
    "            nn.Linear(input_dim, 768),\n",
    "            nn.GELU(),\n",
    "            nn.Dropout(0.5),\n",
    "            nn.Linear(768, output_dim)\n",
    "        )\n",
    "        self.attn_linear = nn.Sequential(\n",
    "            nn.Linear(input_dim, 1),\n",
    "            nn.Dropout(0.5)\n",
    "        )\n",
    "        self.line = nn.Sequential(\n",
    "            nn.Linear(input_dim, output_dim)\n",
    "        )\n",
    "        self.loss_mse = nn.MSELoss()\n",
    "        self.lr = lr\n",
    "        self.tau = tau\n",
    "        self.loss_type = loss_type\n",
    "        self.projector_type = projector_type\n",
    "        self.log_tau = nn.Parameter(torch.tensor(np.log(tau), dtype=torch.float32))\n",
    "\n",
    "    def forward(self, x):     # shape: (batch, 200, 1024)\n",
    "        # attn_weights = torch.softmax(self.attn_linear(x), dim=1)\n",
    "        attn_weights = torch.sigmoid(self.attn_linear(x))\n",
    "        # attn_weights = attn_weights / attn_weights.sum(dim=1, keepdim=True)\n",
    "        attn_out = torch.mean(attn_weights * x, dim=1)                         # TODO: sum or mean\n",
    "        if self.projector_type == \"mlp\":    \n",
    "            output = self.mlp(attn_out)\n",
    "        else:\n",
    "            output = self.line(attn_out)\n",
    "        return output, attn_weights\n",
    "\n",
    "    def cosine_similarity_matrix(self, A, B):\n",
    "        A_norm = F.normalize(A, dim=1)\n",
    "        B_norm = F.normalize(B, dim=1)\n",
    "        return torch.mm(A_norm, B_norm.T)\n",
    "    \n",
    "    def ridge_loss(self, y_pred, y_true, alpha):\n",
    "        mse = F.mse_loss(y_pred, y_true)\n",
    "        l2_reg = sum(param.pow(2).sum() for param in self.parameters())\n",
    "        num_params = sum(param.numel() for param in self.parameters())\n",
    "        l2_reg = l2_reg / num_params\n",
    "        return mse + alpha * l2_reg\n",
    "\n",
    "    def contrastive_loss_nt(self, S, tau):\n",
    "        tau = torch.exp(self.log_tau)  \n",
    "        S_exp = torch.exp(S / tau)\n",
    "        loss = -torch.log(torch.diag(S_exp) / S_exp.sum(dim=1))\n",
    "        return loss.mean()\n",
    "\n",
    "    def training_step(self, batch, batch_idx):\n",
    "        x, y = batch\n",
    "        # loss = self.loss_fn(self(x), y)\n",
    "        output, attn_weights = self(x)\n",
    "        if self.loss_type == \"mse\":\n",
    "            loss = self.loss_mse(output, y)\n",
    "        else:\n",
    "            cos_matrix = self.cosine_similarity_matrix(output, y)\n",
    "            loss = self.contrastive_loss_nt(cos_matrix, self.tau)\n",
    "\n",
    "        self.log(\"train_loss\", loss, on_epoch=True, prog_bar=True)\n",
    "        self.log(\"tau\", torch.exp(self.log_tau).item(), prog_bar=True)  \n",
    "        return loss\n",
    "\n",
    "    def validation_step(self, batch, batch_idx):\n",
    "        x, y = batch\n",
    "        output, attn_weights = self(x)\n",
    "        if self.loss_type == \"mse\":\n",
    "            loss = self.loss_mse(output, y)\n",
    "        else:\n",
    "            cos_matrix = self.cosine_similarity_matrix(output, y)\n",
    "            loss = self.contrastive_loss_nt(cos_matrix, self.tau)\n",
    "\n",
    "        self.log(\"val_loss\", loss, on_epoch=True, prog_bar=True)\n",
    "        return loss\n",
    " \n",
    "    def configure_optimizers(self):\n",
    "        return torch.optim.Adam(self.parameters(), lr=self.lr, weight_decay=1e-4)   # 1e-4\n",
    "    "
   ]
  },
  {
   "cell_type": "code",
   "execution_count": null,
   "metadata": {},
   "outputs": [],
   "source": [
    "seed = 42     # 42, 55, 5, 1, 9999\n",
    "pl.seed_everything(seed, workers=True)\n",
    "model = SoftMapping(loss_type='contrastive', projector_type='mlp', lr=1e-3)\n",
    "logger = CSVLogger(\"/home/repo/nlinear-monkeys/logs/\", name=\"my_model\")\n",
    "early_stop_callback = EarlyStopping(monitor=\"val_loss\", min_delta=0.08, patience=7, verbose=True, mode=\"min\")\n",
    "trainer = Trainer(max_epochs=50, devices=[cuda_d], logger=logger, callbacks=[early_stop_callback])  \n",
    "trainer.fit(model, train_loader, val_loader)"
   ]
  },
  {
   "cell_type": "code",
   "execution_count": 28,
   "metadata": {},
   "outputs": [
    {
     "data": {
      "image/png": "[encoded data removed]",
      "text/plain": [
       "<Figure size 800x500 with 1 Axes>"
      ]
     },
     "metadata": {},
     "output_type": "display_data"
    }
   ],
   "source": [
    "import pandas as pd\n",
    "import matplotlib.pyplot as plt\n",
    "\n",
    "log_path = logger.log_dir + \"/metrics.csv\"\n",
    "df = pd.read_csv(log_path)\n",
    "\n",
    "val_loss_df = df[~df[\"val_loss\"].isna()]\n",
    "train_loss_df = df[~df[\"train_loss_epoch\"].isna()]\n",
    "plt.figure(figsize=(8, 5))\n",
    "plt.plot(np.array(train_loss_df[\"epoch\"]), np.array(train_loss_df[\"train_loss_epoch\"]), label=\"Train Loss\")\n",
    "plt.plot(np.array(val_loss_df[\"epoch\"]), np.array(val_loss_df[\"val_loss\"]), label=\"Val Loss\")\n",
    "plt.xlabel(\"Epoch\")\n",
    "plt.ylabel(\"MSE Loss\")\n",
    "plt.title(\"Training vs Validation Loss\")\n",
    "plt.legend()\n",
    "plt.grid(True)\n",
    "plt.tight_layout()\n",
    "plt.show()"
   ]
  },
  {
   "cell_type": "code",
   "execution_count": null,
   "metadata": {},
   "outputs": [],
   "source": [
    "import torch\n",
    "import pytorch_lightning as pl\n",
    "from pytorch_lightning.loggers import CSVLogger\n",
    "from pytorch_lightning.callbacks import EarlyStopping\n",
    "from sklearn.neighbors import NearestNeighbors\n",
    "import tqdm\n",
    "import numpy as np\n",
    "import os\n",
    "import random\n",
    "\n",
    "def set_global_seed(seed):\n",
    "    pl.seed_everything(seed, workers=True)\n",
    "    torch.manual_seed(seed)\n",
    "    random.seed(seed)\n",
    "    np.random.seed(seed)\n",
    "    os.environ[\"PYTHONHASHSEED\"] = str(seed)\n",
    "    torch.backends.cudnn.deterministic = True\n",
    "    torch.backends.cudnn.benchmark = False\n",
    "\n",
    "top1_scores = []\n",
    "top5_scores = []\n",
    "\n",
    "seeds = [42, 55, 5, 1, 9999]\n",
    "\n",
    "for seed in seeds:\n",
    "    print(f\"\\n=== Running for seed: {seed} ===\")\n",
    "    set_global_seed(seed)\n",
    "    loss_type = \"mse\"  # \"mse\" or \"contrastive\"\n",
    "    projector_type = \"mlp\"  # \"mlp\" or \"linear\"\n",
    "\n",
    "    model = SoftMapping(loss_type=loss_type, projector_type=projector_type, lr=1e-3)\n",
    "    # model = TemporalNeuralToFeature(loss_type=loss_type, lr=1e-3)\n",
    "    logger = CSVLogger(\"/home/repo/nlinear-monkeys/logs/\", name=f\"my_model_seed_{seed}\")\n",
    "    early_stop_callback = EarlyStopping(monitor=\"val_loss\", min_delta=0.08, patience=7, verbose=True, mode=\"min\") \n",
    "    trainer = Trainer(max_epochs=50, devices=[cuda_d], logger=logger, callbacks=[early_stop_callback])  \n",
    "    trainer.fit(model, train_loader, val_loader)\n",
    "\n",
    "    y_pred = []\n",
    "    y_true = []\n",
    "\n",
    "    model.eval()\n",
    "    model.to(device)\n",
    "    with torch.no_grad():\n",
    "        for x, y in tqdm.tqdm(test_loader):\n",
    "            y_hat, _ = model(x)\n",
    "            y_true.append(y)\n",
    "            y_pred.append(y_hat)\n",
    "\n",
    "    y_pred = torch.cat(y_pred, 0)\n",
    "    y_true = torch.cat(y_true, 0)\n",
    "\n",
    "    y_true_np = y_true.cpu().numpy()\n",
    "    y_pred_np = y_pred.cpu().numpy()\n",
    "\n",
    "    nbrs = NearestNeighbors(n_neighbors=5, metric='cosine').fit(y_true_np)\n",
    "    distances, top_indices = nbrs.kneighbors(y_pred_np)\n",
    "    true_indices = np.arange(len(y_true_np))\n",
    "\n",
    "    top1_count = (top_indices[:, 0] == true_indices).sum()\n",
    "    top5_count = sum(true_idx in top_indices[i] for i, true_idx in enumerate(true_indices))\n",
    "\n",
    "    top1_acc = top1_count / len(y_true_np)\n",
    "    top5_acc = top5_count / len(y_true_np)\n",
    "\n",
    "    print(f\"Top-1 accuracy for seed {seed}: {top1_count}/{len(y_true_np)} ({top1_acc * 100:.2f}%)\")\n",
    "    print(f\"Top-5 accuracy for seed {seed}: {top5_count}/{len(y_true_np)} ({top5_acc * 100:.2f}%)\")\n",
    "\n",
    "    top1_scores.append(top1_acc)\n",
    "    top5_scores.append(top5_acc)\n",
    "\n",
    "mean_top1 = np.mean(top1_scores)\n",
    "std_top1 = np.std(top1_scores)\n",
    "mean_top5 = np.mean(top5_scores)\n",
    "std_top5 = np.std(top5_scores)\n",
    "\n",
    "print(\"\\n=== Risultati finali ===\")\n",
    "print(f\"Average Top-1 accuracy: {mean_top1 * 100:.2f}% ± {std_top1 * 100:.2f}%\")\n",
    "print(f\"Average Top-5 accuracy: {mean_top5 * 100:.2f}% ± {std_top5 * 100:.2f}%\")\n"
   ]
  },
  {
   "cell_type": "code",
   "execution_count": 29,
   "metadata": {},
   "outputs": [
    {
     "name": "stderr",
     "output_type": "stream",
     "text": [
      "100%|██████████| 1/1 [00:00<00:00, 529.99it/s]\n"
     ]
    }
   ],
   "source": [
    "x,y = next(iter(test_loader))\n",
    "\n",
    "y_pred=[]\n",
    "y_true=[]\n",
    "attn_weights_list = []\n",
    "\n",
    "model.eval()\n",
    "model.to(device)\n",
    "with torch.no_grad():\n",
    "    for x,y in tqdm.tqdm(test_loader):\n",
    "        y_hat, attn_weights = model(x) \n",
    "        y_true.append(y)\n",
    "        y_pred.append(y_hat)\n",
    "        attn_weights_list.append(attn_weights.cpu())\n",
    "\n",
    "y_pred=torch.cat(y_pred,0)\n",
    "y_true=torch.cat(y_true,0)\n",
    "attn_weights_test = torch.cat(attn_weights_list, dim=0).squeeze(-1)"
   ]
  },
  {
   "cell_type": "code",
   "execution_count": 34,
   "metadata": {},
   "outputs": [
    {
     "name": "stdout",
     "output_type": "stream",
     "text": [
      "Top-1 accuracy: 74/100 (74.00%)\n",
      "Top-5 accuracy: 92/100 (92.00%)\n"
     ]
    }
   ],
   "source": [
    "from sklearn.neighbors import NearestNeighbors\n",
    "\n",
    "y_true_np = y_true.cpu().numpy()\n",
    "y_pred_np = y_pred.cpu().numpy()\n",
    "nbrs = NearestNeighbors(n_neighbors=5, metric='cosine').fit(y_true_np)\n",
    "\n",
    "distances, top_indices = nbrs.kneighbors(y_pred_np)\n",
    "true_indices = torch.arange(len(y_true_np)).cpu().numpy()\n",
    "\n",
    "top1_count = (top_indices[:, 0] == true_indices).sum()\n",
    "top3_count = sum(true_idx in top_indices[i] for i, true_idx in enumerate(true_indices))\n",
    "\n",
    "print(f\"Top-1 accuracy: {top1_count}/{len(y_true_np)} ({top1_count / len(y_true_np) * 100:.2f}%)\")\n",
    "print(f\"Top-5 accuracy: {top3_count}/{len(y_true_np)} ({top3_count / len(y_true_np) * 100:.2f}%)\")"
   ]
  },
  {
   "cell_type": "code",
   "execution_count": 31,
   "metadata": {},
   "outputs": [
    {
     "data": {
      "image/png": "[encoded data removed]",
      "text/plain": [
       "<Figure size 640x480 with 2 Axes>"
      ]
     },
     "metadata": {},
     "output_type": "display_data"
    }
   ],
   "source": [
    "import seaborn as sns\n",
    "from matplotlib.colors import LinearSegmentedColormap\n",
    "\n",
    "neuroposter_cmap = LinearSegmentedColormap.from_list('Neuroposter', (\n",
    "    # Edit this gradient at https://eltos.github.io/gradient/#Neuroposter=3C0080-9A5598-CFD357\n",
    "    (0.000, (0.235, 0.000, 0.502)),\n",
    "    (0.500, (0.604, 0.333, 0.596)),\n",
    "    (1.000, (0.812, 0.827, 0.341))))\n",
    "\n",
    "sns.heatmap(attn_weights_test, cmap='rocket')\n",
    "plt.title(\"Attention weights over the test set\", fontsize=16)\n",
    "plt.xlabel(\"Timepoint\", fontsize=14)\n",
    "plt.ylabel(\"Test Sample\", fontsize=14)\n",
    "plt.tight_layout()\n",
    "plt.show()"
   ]
  },
  {
   "cell_type": "code",
   "execution_count": 130,
   "metadata": {},
   "outputs": [
    {
     "name": "stdout",
     "output_type": "stream",
     "text": [
      "['Solarize_Light2', '_classic_test_patch', 'bmh', 'classic', 'dark_background', 'fast', 'fivethirtyeight', 'ggplot', 'grayscale', 'seaborn', 'seaborn-bright', 'seaborn-colorblind', 'seaborn-dark', 'seaborn-dark-palette', 'seaborn-darkgrid', 'seaborn-deep', 'seaborn-muted', 'seaborn-notebook', 'seaborn-paper', 'seaborn-pastel', 'seaborn-poster', 'seaborn-talk', 'seaborn-ticks', 'seaborn-white', 'seaborn-whitegrid', 'tableau-colorblind10']\n"
     ]
    }
   ],
   "source": [
    "print(plt.style.available)"
   ]
  },
  {
   "cell_type": "code",
   "execution_count": 32,
   "metadata": {},
   "outputs": [
    {
     "data": {
      "image/png": "[encoded data removed]",
      "text/plain": [
       "<Figure size 1000x500 with 1 Axes>"
      ]
     },
     "metadata": {},
     "output_type": "display_data"
    }
   ],
   "source": [
    "attn_array = attn_weights_test.numpy()  \n",
    "attn_mean = attn_array.mean(axis=0)  \n",
    "attn_std = attn_array.std(axis=0)\n",
    "timepoints = np.arange(attn_mean.shape[0])\n",
    "\n",
    "rocket_cmap = sns.color_palette(\"rocket\", as_cmap=True)\n",
    "rocket_colors = sns.color_palette(\"rocket\", 3)\n",
    "main_color = rocket_colors[1] \n",
    "\n",
    "plt.style.use(\"seaborn\") \n",
    "plt.figure(figsize=(10, 5))\n",
    "plt.plot(timepoints, attn_mean, label=\"Avg\", color=main_color, linewidth=2)\n",
    "plt.fill_between(timepoints, attn_mean - attn_std, attn_mean + attn_std,\n",
    "                 color=main_color, alpha=0.3, label=\"Std Dev\")\n",
    "\n",
    "plt.title(\"Attention weights avg over test samples\", fontsize=16)\n",
    "plt.xlabel(\"Timepoint\", fontsize=14)\n",
    "plt.ylabel(\"Attention weight\", fontsize=14)\n",
    "plt.legend()\n",
    "plt.tight_layout()\n",
    "plt.show()\n"
   ]
  },
  {
   "cell_type": "code",
   "execution_count": 33,
   "metadata": {},
   "outputs": [
    {
     "data": {
      "image/png": "[encoded data removed]",
      "text/plain": [
       "<Figure size 1300x600 with 1 Axes>"
      ]
     },
     "metadata": {},
     "output_type": "display_data"
    }
   ],
   "source": [
    "import matplotlib.pyplot as plt\n",
    "import numpy as np\n",
    "\n",
    "# Dati originali\n",
    "models = np.array([\n",
    "    'Linear/TimeFlat', 'Linear/AvgTime', 'MLP/AvgTime',\n",
    "    'LSTM', 'TCN', 'Linear/TimeAtt', 'MLP/TimeAtt'\n",
    "])\n",
    "\n",
    "\n",
    "top1_mse = np.array([10.1, 21.4, 24.0, 11.0, 14.0, 19.4, 22.4])\n",
    "top1_ntx = np.array([41.3, 54.9, 66.1, 37.7, 53.3, 62.7, 69.3])\n",
    "top5_mse = np.array([27.3, 45.0, 50.6, 30.2, 41.2, 42.8, 47.8])\n",
    "top5_ntx = np.array([72.6, 86.0, 90.1, 73.7, 85.1, 89.4, 93.6])\n",
    "\n",
    "top1_mse_err = np.array([2.10, 1.36, 1.10, 1.41, 2.19, 3.11, 3.14])\n",
    "top1_ntx_err = np.array([3.92, 1.53, 2.08, 2.06, 2.72, 2.79, 3.01])\n",
    "top5_mse_err = np.array([2.89, 2.97, 2.42, 1.60, 2.79, 2.70, 3.54])\n",
    "top5_ntx_err = np.array([5.66, 1.50, 2.48, 2.37, 1.56, 1.34, 1.03])\n",
    "\n",
    "# Step 1: massimo tra top1_mse e top1_ntx\n",
    "best_top1 = np.maximum(top1_mse, top1_ntx)\n",
    "\n",
    "# Step 2: ordina gli indici in base al valore crescente (peggior modello prima)\n",
    "sorted_indices = np.argsort(best_top1)\n",
    "\n",
    "# Step 3: riordina tutti i dati\n",
    "models = models[sorted_indices]\n",
    "top1_mse = top1_mse[sorted_indices]\n",
    "top1_ntx = top1_ntx[sorted_indices]\n",
    "top5_mse = top5_mse[sorted_indices]\n",
    "top5_ntx = top5_ntx[sorted_indices]\n",
    "\n",
    "top1_mse_err = top1_mse_err[sorted_indices]\n",
    "top1_ntx_err = top1_ntx_err[sorted_indices]\n",
    "top5_mse_err = top5_mse_err[sorted_indices]\n",
    "top5_ntx_err = top5_ntx_err[sorted_indices]\n",
    "\n",
    "colors = {\n",
    "    'top1_mse': '#3b0f70',\n",
    "    'top1_ntx': '#8c2981',\n",
    "    'top5_mse': '#de4968',\n",
    "    'top5_ntx': '#fe9f6d'\n",
    "}\n",
    "\n",
    "# Plot\n",
    "x = np.arange(len(models))\n",
    "width = 0.18\n",
    "\n",
    "fig, ax = plt.subplots(figsize=(13, 6))\n",
    "b1 = ax.bar(x - 1.5*width, top1_mse, width, yerr=top1_mse_err, label='Top-1 MSE', capsize=5, color=colors['top1_mse'])\n",
    "b2 = ax.bar(x - 0.5*width, top1_ntx, width, yerr=top1_ntx_err, label='Top-1 NT-Xent', capsize=5, color=colors['top1_ntx'])\n",
    "b3 = ax.bar(x + 0.5*width, top5_mse, width, yerr=top5_mse_err, label='Top-5 MSE', capsize=5, color=colors['top5_mse'])\n",
    "b4 = ax.bar(x + 1.5*width, top5_ntx, width, yerr=top5_ntx_err, label='Top-5 NT-Xent', capsize=5, color=colors['top5_ntx'])\n",
    "\n",
    "# Layout\n",
    "ax.set_ylabel('Accuracy (%)', fontsize=14)\n",
    "ax.set_title('Retrieval Accuracy per Model', fontsize=16)\n",
    "ax.set_xticks(x)\n",
    "ax.set_xticklabels(models, rotation=45, ha='right', fontsize=13)\n",
    "ax.legend()\n",
    "ax.grid(axis='y', linestyle='--', alpha=0.6)\n",
    "\n",
    "plt.tight_layout()\n",
    "plt.show()\n"
   ]
  },
  {
   "cell_type": "markdown",
   "metadata": {},
   "source": [
    "## Top Channels Trials"
   ]
  },
  {
   "cell_type": "code",
   "execution_count": 86,
   "metadata": {},
   "outputs": [
    {
     "name": "stdout",
     "output_type": "stream",
     "text": [
      "(667,)\n"
     ]
    }
   ],
   "source": [
    "top_global_channels = torch.load('/srv/nfs-data/sisko/storage/THINGS_img/top_global_channels_F.pt')\n",
    "print(top_global_channels.shape)"
   ]
  },
  {
   "cell_type": "code",
   "execution_count": 231,
   "metadata": {},
   "outputs": [],
   "source": [
    "top_global_channels_mv = np.array([t.item() for t in top_global_channels])\n",
    "\n",
    "X_train_tensor = X_train_tensor[:, :, top_global_channels_mv]\n",
    "X_test_tensor = X_test_tensor[:, :, top_global_channels_mv]"
   ]
  },
  {
   "cell_type": "code",
   "execution_count": 232,
   "metadata": {},
   "outputs": [],
   "source": [
    "dataset = TensorDataset(X_train_tensor, torch.tensor(train_features, dtype=torch.float32, device=device))\n",
    "test_dataset = TensorDataset(X_test_tensor, torch.tensor(test_features_avg, dtype=torch.float32, device=device))\n",
    "val_size = int(0.2 * len(dataset))  \n",
    "train_size = len(dataset) - val_size\n",
    "generator1 = torch.Generator().manual_seed(seed)\n",
    "train_dataset, val_dataset = random_split(dataset, [train_size, val_size], generator=generator1)\n",
    "\n",
    "train_loader = DataLoader(train_dataset, batch_size=batch_size, shuffle=True)\n",
    "val_loader = DataLoader(val_dataset, batch_size=batch_size, shuffle=False)\n",
    "test_loader = DataLoader(test_dataset, batch_size=batch_size, shuffle=False)"
   ]
  },
  {
   "cell_type": "code",
   "execution_count": null,
   "metadata": {},
   "outputs": [
    {
     "name": "stderr",
     "output_type": "stream",
     "text": [
      "Seed set to 42\n",
      "/home/matteoc/miniconda3/envs/speech-meg/lib/python3.9/site-packages/lightning_fabric/plugins/environments/slurm.py:191: The `srun` command is available on your system but is not used. HINT: If your intention is to run Lightning on SLURM, prepend your python command with `srun` like so: srun python /home/matteoc/miniconda3/envs/speech-meg/lib/python3 ...\n",
      "GPU available: True (cuda), used: True\n",
      "TPU available: False, using: 0 TPU cores\n",
      "IPU available: False, using: 0 IPUs\n",
      "HPU available: False, using: 0 HPUs\n",
      "LOCAL_RANK: 0 - CUDA_VISIBLE_DEVICES: [0,1,2,3]\n",
      "\n",
      "  | Name         | Type       | Params\n",
      "--------------------------------------------\n",
      "0 | linear       | Sequential | 68.3 M\n",
      "1 | loss_mse     | MSELoss    | 0     \n",
      "  | other params | n/a        | 1     \n",
      "--------------------------------------------\n",
      "68.3 M    Trainable params\n",
      "0         Non-trainable params\n",
      "68.3 M    Total params\n",
      "273.205   Total estimated model params size (MB)\n"
     ]
    },
    {
     "name": "stdout",
     "output_type": "stream",
     "text": [
      "                                                                            "
     ]
    },
    {
     "name": "stderr",
     "output_type": "stream",
     "text": [
      "/home/matteoc/miniconda3/envs/speech-meg/lib/python3.9/site-packages/pytorch_lightning/trainer/connectors/data_connector.py:441: The 'val_dataloader' does not have many workers which may be a bottleneck. Consider increasing the value of the `num_workers` argument` to `num_workers=255` in the `DataLoader` to improve performance.\n",
      "/home/matteoc/miniconda3/envs/speech-meg/lib/python3.9/site-packages/pytorch_lightning/trainer/connectors/data_connector.py:441: The 'train_dataloader' does not have many workers which may be a bottleneck. Consider increasing the value of the `num_workers` argument` to `num_workers=255` in the `DataLoader` to improve performance.\n",
      "/home/matteoc/miniconda3/envs/speech-meg/lib/python3.9/site-packages/pytorch_lightning/loops/fit_loop.py:293: The number of training batches (47) is smaller than the logging interval Trainer(log_every_n_steps=50). Set a lower value for log_every_n_steps if you want to see logs for the training epoch.\n"
     ]
    },
    {
     "name": "stdout",
     "output_type": "stream",
     "text": [
      "Epoch 0: 100%|██████████| 47/47 [00:00<00:00, 85.06it/s, v_num=67, train_loss_step=4.900, tau=0.0512, val_loss=5.050, train_loss_epoch=5.360]"
     ]
    },
    {
     "name": "stderr",
     "output_type": "stream",
     "text": [
      "Metric val_loss improved. New best score: 5.047\n"
     ]
    },
    {
     "name": "stdout",
     "output_type": "stream",
     "text": [
      "Epoch 1: 100%|██████████| 47/47 [00:00<00:00, 63.50it/s, v_num=67, train_loss_step=3.650, tau=0.0489, val_loss=4.270, train_loss_epoch=4.260]"
     ]
    },
    {
     "name": "stderr",
     "output_type": "stream",
     "text": [
      "Metric val_loss improved by 0.777 >= min_delta = 0.1. New best score: 4.270\n"
     ]
    },
    {
     "name": "stdout",
     "output_type": "stream",
     "text": [
      "Epoch 2: 100%|██████████| 47/47 [00:00<00:00, 83.85it/s, v_num=67, train_loss_step=1.580, tau=0.0451, val_loss=3.480, train_loss_epoch=2.110]"
     ]
    },
    {
     "name": "stderr",
     "output_type": "stream",
     "text": [
      "Metric val_loss improved by 0.794 >= min_delta = 0.1. New best score: 3.476\n"
     ]
    },
    {
     "name": "stdout",
     "output_type": "stream",
     "text": [
      "Epoch 12: 100%|██████████| 47/47 [00:00<00:00, 85.17it/s, v_num=67, train_loss_step=0.00826, tau=0.0404, val_loss=3.850, train_loss_epoch=0.00775]"
     ]
    },
    {
     "name": "stderr",
     "output_type": "stream",
     "text": [
      "Monitored metric val_loss did not improve in the last 10 records. Best score: 3.476. Signaling Trainer to stop.\n"
     ]
    },
    {
     "name": "stdout",
     "output_type": "stream",
     "text": [
      "Epoch 12: 100%|██████████| 47/47 [00:05<00:00,  8.80it/s, v_num=67, train_loss_step=0.00826, tau=0.0404, val_loss=3.850, train_loss_epoch=0.00775]\n"
     ]
    }
   ],
   "source": [
    "pl.seed_everything(seed, workers=True)\n",
    "# model_top_channels = SoftMapping(input_dim=667)\n",
    "# model_top_channels = MlpAvgTime(input_dim=667)\n",
    "model_top_channels = LinearFlatTime(input_dim=667*200)\n",
    "logger = CSVLogger(\"/home/repo/nlinear-monkeys/logs/\", name=\"my_model\")\n",
    "early_stop_callback = EarlyStopping(monitor=\"val_loss\", min_delta=0.10, patience=10, verbose=True, mode=\"min\")\n",
    "trainer = Trainer(max_epochs=50, devices=[cuda_d], logger=logger, callbacks=[early_stop_callback])  # Usa GPU se disponibile, 35 epoche per il SoftMapping\n",
    "trainer.fit(model_top_channels, train_loader, val_loader)"
   ]
  },
  {
   "cell_type": "code",
   "execution_count": 244,
   "metadata": {},
   "outputs": [
    {
     "name": "stderr",
     "output_type": "stream",
     "text": [
      "100%|██████████| 1/1 [00:00<00:00, 33.00it/s]\n"
     ]
    }
   ],
   "source": [
    "x,y = next(iter(test_loader))\n",
    "\n",
    "y_pred=[]\n",
    "y_true=[]\n",
    "\n",
    "with torch.no_grad():\n",
    "    for x,y in tqdm.tqdm(test_loader):\n",
    "        model_top = model_top_channels.to(device)\n",
    "        y_hat = model_top(x)\n",
    "        y_true.append(y)\n",
    "        y_pred.append(y_hat)\n",
    "y_pred=torch.cat(y_pred,0)\n",
    "y_true=torch.cat(y_true,0)"
   ]
  },
  {
   "cell_type": "code",
   "execution_count": 245,
   "metadata": {},
   "outputs": [
    {
     "name": "stdout",
     "output_type": "stream",
     "text": [
      "Top-1 accuracy: 47/100 (47.00%)\n",
      "Top-5 accuracy: 77/100 (77.00%)\n"
     ]
    }
   ],
   "source": [
    "from sklearn.neighbors import NearestNeighbors\n",
    "\n",
    "y_true_np = y_true.cpu().numpy()\n",
    "y_pred_np = y_pred.cpu().numpy()\n",
    "nbrs = NearestNeighbors(n_neighbors=5, metric='cosine').fit(y_true_np)\n",
    "\n",
    "distances, top_indices = nbrs.kneighbors(y_pred_np)\n",
    "true_indices = torch.arange(len(y_true_np)).cpu().numpy()\n",
    "\n",
    "top1_count = (top_indices[:, 0] == true_indices).sum()\n",
    "top3_count = sum(true_idx in top_indices[i] for i, true_idx in enumerate(true_indices))\n",
    "\n",
    "print(f\"Top-1 accuracy: {top1_count}/{len(y_true_np)} ({top1_count / len(y_true_np) * 100:.2f}%)\")\n",
    "print(f\"Top-5 accuracy: {top3_count}/{len(y_true_np)} ({top3_count / len(y_true_np) * 100:.2f}%)\")"
   ]
  },
  {
   "cell_type": "markdown",
   "metadata": {},
   "source": [
    "## Channels PCA (Scaling Law)"
   ]
  },
  {
   "cell_type": "code",
   "execution_count": 93,
   "metadata": {},
   "outputs": [],
   "source": [
    "from sklearn.decomposition import PCA\n",
    "\n",
    "n_components = 768\n",
    "pca = PCA(n_components=n_components)\n",
    "X_train_pca_flat = pca.fit_transform(X_scaled) \n",
    "X_train_pca = X_train_pca_flat.reshape(X_train.shape[0], X_train.shape[1], n_components)\n",
    "\n",
    "X_test_pca_flat = pca.transform(X_test_scaled)\n",
    "X_test_pca = X_test_pca_flat.reshape(X_test.shape[0], X_test.shape[1], n_components)\n",
    "\n",
    "X_train_tensor_pca = torch.tensor(X_train_pca.reshape(15000, 200, n_components), dtype=torch.float32, device=device)\n",
    "X_test_tensor_pca = torch.tensor(X_test_pca.reshape(100, 200, n_components), dtype=torch.float32, device=device)"
   ]
  },
  {
   "cell_type": "code",
   "execution_count": 94,
   "metadata": {},
   "outputs": [],
   "source": [
    "dataset_pca = TensorDataset(X_train_tensor_pca, torch.tensor(Y_train, dtype=torch.float32, device=device))\n",
    "test_dataset_pca = TensorDataset(X_test_tensor_pca, torch.tensor(Y_test, dtype=torch.float32, device=device))\n",
    "val_size = int(0.2 * len(dataset_pca))  \n",
    "train_size = len(dataset_pca) - val_size\n",
    "generator1 = torch.Generator().manual_seed(seed)\n",
    "train_dataset_pca, val_dataset_pca = random_split(dataset_pca, [train_size, val_size], generator=generator1)\n",
    "\n",
    "train_loader_pca = DataLoader(train_dataset_pca, batch_size=batch_size, shuffle=True)\n",
    "val_loader_pca = DataLoader(val_dataset_pca, batch_size=batch_size, shuffle=False)\n",
    "test_loader_pca = DataLoader(test_dataset_pca, batch_size=batch_size, shuffle=False)"
   ]
  },
  {
   "cell_type": "code",
   "execution_count": null,
   "metadata": {},
   "outputs": [
    {
     "name": "stderr",
     "output_type": "stream",
     "text": [
      "Seed set to 42\n",
      "GPU available: True (cuda), used: True\n",
      "TPU available: False, using: 0 TPU cores\n",
      "IPU available: False, using: 0 IPUs\n",
      "HPU available: False, using: 0 HPUs\n",
      "LOCAL_RANK: 0 - CUDA_VISIBLE_DEVICES: [0,1,2,3]\n",
      "\n",
      "  | Name         | Type       | Params\n",
      "--------------------------------------------\n",
      "0 | attn_mlp     | Sequential | 197 K \n",
      "1 | attn_linear  | Sequential | 769   \n",
      "2 | lin          | Sequential | 393 K \n",
      "3 | loss_mse     | MSELoss    | 0     \n",
      "  | other params | n/a        | 1     \n",
      "--------------------------------------------\n",
      "591 K     Trainable params\n",
      "0         Non-trainable params\n",
      "591 K     Total params\n",
      "2.366     Total estimated model params size (MB)\n"
     ]
    },
    {
     "name": "stdout",
     "output_type": "stream",
     "text": [
      "                                                                            "
     ]
    },
    {
     "name": "stderr",
     "output_type": "stream",
     "text": [
      "/home/matteoc/miniconda3/envs/speech-meg/lib/python3.9/site-packages/pytorch_lightning/trainer/connectors/data_connector.py:441: The 'train_dataloader' does not have many workers which may be a bottleneck. Consider increasing the value of the `num_workers` argument` to `num_workers=255` in the `DataLoader` to improve performance.\n"
     ]
    },
    {
     "name": "stdout",
     "output_type": "stream",
     "text": [
      "Epoch 0: 100%|██████████| 94/94 [00:00<00:00, 176.05it/s, v_num=84, train_loss_step=4.420, tau=0.0503, val_loss=4.650, train_loss_epoch=4.850]"
     ]
    },
    {
     "name": "stderr",
     "output_type": "stream",
     "text": [
      "Metric val_loss improved. New best score: 4.646\n"
     ]
    },
    {
     "name": "stdout",
     "output_type": "stream",
     "text": [
      "Epoch 1: 100%|██████████| 94/94 [00:00<00:00, 161.24it/s, v_num=84, train_loss_step=3.930, tau=0.0498, val_loss=4.310, train_loss_epoch=4.400]"
     ]
    },
    {
     "name": "stderr",
     "output_type": "stream",
     "text": [
      "Metric val_loss improved by 0.339 >= min_delta = 0.09. New best score: 4.307\n"
     ]
    },
    {
     "name": "stdout",
     "output_type": "stream",
     "text": [
      "Epoch 2: 100%|██████████| 94/94 [00:00<00:00, 151.11it/s, v_num=84, train_loss_step=3.650, tau=0.0491, val_loss=3.990, train_loss_epoch=3.990]"
     ]
    },
    {
     "name": "stderr",
     "output_type": "stream",
     "text": [
      "Metric val_loss improved by 0.318 >= min_delta = 0.09. New best score: 3.989\n"
     ]
    },
    {
     "name": "stdout",
     "output_type": "stream",
     "text": [
      "Epoch 3: 100%|██████████| 94/94 [00:00<00:00, 170.15it/s, v_num=84, train_loss_step=3.220, tau=0.0483, val_loss=3.690, train_loss_epoch=3.600]"
     ]
    },
    {
     "name": "stderr",
     "output_type": "stream",
     "text": [
      "Metric val_loss improved by 0.296 >= min_delta = 0.09. New best score: 3.693\n"
     ]
    },
    {
     "name": "stdout",
     "output_type": "stream",
     "text": [
      "Epoch 4: 100%|██████████| 94/94 [00:00<00:00, 149.07it/s, v_num=84, train_loss_step=2.850, tau=0.0476, val_loss=3.430, train_loss_epoch=3.230]"
     ]
    },
    {
     "name": "stderr",
     "output_type": "stream",
     "text": [
      "Metric val_loss improved by 0.260 >= min_delta = 0.09. New best score: 3.433\n"
     ]
    },
    {
     "name": "stdout",
     "output_type": "stream",
     "text": [
      "Epoch 5: 100%|██████████| 94/94 [00:00<00:00, 179.49it/s, v_num=84, train_loss_step=2.540, tau=0.0469, val_loss=3.220, train_loss_epoch=2.890]"
     ]
    },
    {
     "name": "stderr",
     "output_type": "stream",
     "text": [
      "Metric val_loss improved by 0.214 >= min_delta = 0.09. New best score: 3.219\n"
     ]
    },
    {
     "name": "stdout",
     "output_type": "stream",
     "text": [
      "Epoch 6: 100%|██████████| 94/94 [00:00<00:00, 185.77it/s, v_num=84, train_loss_step=2.310, tau=0.0462, val_loss=3.050, train_loss_epoch=2.620]"
     ]
    },
    {
     "name": "stderr",
     "output_type": "stream",
     "text": [
      "Metric val_loss improved by 0.166 >= min_delta = 0.09. New best score: 3.053\n"
     ]
    },
    {
     "name": "stdout",
     "output_type": "stream",
     "text": [
      "Epoch 7: 100%|██████████| 94/94 [00:00<00:00, 158.30it/s, v_num=84, train_loss_step=1.970, tau=0.0456, val_loss=2.930, train_loss_epoch=2.390]"
     ]
    },
    {
     "name": "stderr",
     "output_type": "stream",
     "text": [
      "Metric val_loss improved by 0.127 >= min_delta = 0.09. New best score: 2.925\n"
     ]
    },
    {
     "name": "stdout",
     "output_type": "stream",
     "text": [
      "Epoch 8: 100%|██████████| 94/94 [00:00<00:00, 154.49it/s, v_num=84, train_loss_step=1.960, tau=0.045, val_loss=2.830, train_loss_epoch=2.210] "
     ]
    },
    {
     "name": "stderr",
     "output_type": "stream",
     "text": [
      "Metric val_loss improved by 0.100 >= min_delta = 0.09. New best score: 2.825\n"
     ]
    },
    {
     "name": "stdout",
     "output_type": "stream",
     "text": [
      "Epoch 10: 100%|██████████| 94/94 [00:00<00:00, 142.60it/s, v_num=84, train_loss_step=1.760, tau=0.0439, val_loss=2.680, train_loss_epoch=1.920]"
     ]
    },
    {
     "name": "stderr",
     "output_type": "stream",
     "text": [
      "Metric val_loss improved by 0.145 >= min_delta = 0.09. New best score: 2.681\n"
     ]
    },
    {
     "name": "stdout",
     "output_type": "stream",
     "text": [
      "Epoch 12: 100%|██████████| 94/94 [00:00<00:00, 135.34it/s, v_num=84, train_loss_step=1.470, tau=0.0429, val_loss=2.580, train_loss_epoch=1.700]"
     ]
    },
    {
     "name": "stderr",
     "output_type": "stream",
     "text": [
      "Metric val_loss improved by 0.100 >= min_delta = 0.09. New best score: 2.580\n"
     ]
    },
    {
     "name": "stdout",
     "output_type": "stream",
     "text": [
      "Epoch 15: 100%|██████████| 94/94 [00:00<00:00, 139.13it/s, v_num=84, train_loss_step=1.260, tau=0.0415, val_loss=2.480, train_loss_epoch=1.440]"
     ]
    },
    {
     "name": "stderr",
     "output_type": "stream",
     "text": [
      "Metric val_loss improved by 0.103 >= min_delta = 0.09. New best score: 2.477\n"
     ]
    },
    {
     "name": "stdout",
     "output_type": "stream",
     "text": [
      "Epoch 20: 100%|██████████| 94/94 [00:00<00:00, 163.99it/s, v_num=84, train_loss_step=1.010, tau=0.0394, val_loss=2.380, train_loss_epoch=1.140]"
     ]
    },
    {
     "name": "stderr",
     "output_type": "stream",
     "text": [
      "Metric val_loss improved by 0.100 >= min_delta = 0.09. New best score: 2.377\n"
     ]
    },
    {
     "name": "stdout",
     "output_type": "stream",
     "text": [
      "Epoch 30: 100%|██████████| 94/94 [00:00<00:00, 186.59it/s, v_num=84, train_loss_step=0.723, tau=0.0358, val_loss=2.290, train_loss_epoch=0.746]"
     ]
    },
    {
     "name": "stderr",
     "output_type": "stream",
     "text": [
      "Monitored metric val_loss did not improve in the last 10 records. Best score: 2.377. Signaling Trainer to stop.\n"
     ]
    },
    {
     "name": "stdout",
     "output_type": "stream",
     "text": [
      "Epoch 30: 100%|██████████| 94/94 [00:00<00:00, 174.27it/s, v_num=84, train_loss_step=0.723, tau=0.0358, val_loss=2.290, train_loss_epoch=0.746]\n"
     ]
    }
   ],
   "source": [
    "pl.seed_everything(seed, workers=True)\n",
    "model_pca = SoftMapping(input_dim=n_components, output_dim=512, lr=1e-4, tau=0.05)\n",
    "logger = CSVLogger(\"/home/repo/nlinear-monkeys/logs/\", name=\"my_model\")\n",
    "early_stop_callback = EarlyStopping(monitor=\"val_loss\", min_delta=0.09, patience=10, verbose=True, mode=\"min\")\n",
    "trainer = Trainer(max_epochs=100, devices=[cuda_d], logger=logger, callbacks=[early_stop_callback])  \n",
    "trainer.fit(model_pca, train_loader_pca, val_loader_pca)"
   ]
  },
  {
   "cell_type": "code",
   "execution_count": null,
   "metadata": {},
   "outputs": [
    {
     "data": {
      "image/png": "[encoded data removed]",
      "text/plain": [
       "<Figure size 800x600 with 1 Axes>"
      ]
     },
     "metadata": {},
     "output_type": "display_data"
    }
   ],
   "source": [
    "import matplotlib.pyplot as plt\n",
    "\n",
    "# Dati della tabella\n",
    "pca_dims = [32, 64, 128, 256, 512, 768, 1024]\n",
    "top1_acc = [21.0, 30.0, 37.0, 49.0, 52.0, 59.0, 67.0]\n",
    "top5_acc = [58.0, 66.0, 75.0, 81.0, 81.0, 87.0, 91.0]\n",
    "\n",
    "def log_func(x, a, b):\n",
    "    return a * np.log(x) + b\n",
    "\n",
    "plt.figure(figsize=(8, 6))\n",
    "plt.plot(pca_dims, top1_acc, marker='o', label='Top-1 Accuracy')\n",
    "plt.plot(pca_dims, top5_acc, marker='s', label='Top-5 Accuracy')\n",
    "\n",
    "plt.xscale('linear')  # scala logaritmica crescente\n",
    "plt.xlabel('PCA Dimension')\n",
    "plt.ylabel('Accuracy (%)')\n",
    "plt.title('Scaling Law - Accuracy vs Channel PCA')\n",
    "plt.legend()\n",
    "plt.grid(False)\n",
    "ax = plt.gca()\n",
    "ax.spines['top'].set_visible(False)\n",
    "ax.spines['right'].set_visible(False)\n",
    "plt.tight_layout()\n",
    "plt.show()\n"
   ]
  },
  {
   "cell_type": "markdown",
   "metadata": {},
   "source": [
    "## Random Samples (Scaling Law)"
   ]
  },
  {
   "cell_type": "code",
   "execution_count": 119,
   "metadata": {},
   "outputs": [],
   "source": [
    "num_samples = 10000\n",
    "torch.manual_seed(seed)\n",
    "\n",
    "total_samples = X_train_tensor.shape[0]\n",
    "random_indices = torch.randperm(total_samples)[:num_samples]\n",
    "X_random_subset = X_train_tensor[random_indices]\n",
    "Y_train_random = Y_train[random_indices]\n",
    "\n",
    "dataset = TensorDataset(X_random_subset, torch.tensor(Y_train_random, dtype=torch.float32, device=device))\n",
    "test_dataset = TensorDataset(X_test_tensor, torch.tensor(Y_test, dtype=torch.float32, device=device))\n",
    "val_size = int(0.2 * len(dataset))  \n",
    "train_size = len(dataset) - val_size\n",
    "generator1 = torch.Generator().manual_seed(seed)\n",
    "train_dataset_random, val_dataset = random_split(dataset, [train_size, val_size], generator=generator1)\n",
    "\n",
    "train_loader_rand = DataLoader(train_dataset_random, batch_size=batch_size, shuffle=True)\n",
    "val_loader_rand = DataLoader(val_dataset, batch_size=batch_size, shuffle=False)\n",
    "test_loader_rand = DataLoader(test_dataset, batch_size=batch_size, shuffle=False)"
   ]
  },
  {
   "cell_type": "code",
   "execution_count": null,
   "metadata": {},
   "outputs": [
    {
     "name": "stderr",
     "output_type": "stream",
     "text": [
      "Seed set to 42\n",
      "/home/matteoc/miniconda3/envs/speech-meg/lib/python3.9/site-packages/lightning_fabric/plugins/environments/slurm.py:191: The `srun` command is available on your system but is not used. HINT: If your intention is to run Lightning on SLURM, prepend your python command with `srun` like so: srun python /home/matteoc/miniconda3/envs/speech-meg/lib/python3 ...\n",
      "GPU available: True (cuda), used: True\n",
      "TPU available: False, using: 0 TPU cores\n",
      "IPU available: False, using: 0 IPUs\n",
      "HPU available: False, using: 0 HPUs\n",
      "LOCAL_RANK: 0 - CUDA_VISIBLE_DEVICES: [0,1,2,3]\n",
      "\n",
      "  | Name         | Type       | Params\n",
      "--------------------------------------------\n",
      "0 | attn_mlp     | Sequential | 262 K \n",
      "1 | attn_linear  | Sequential | 1.0 K \n",
      "2 | lin          | Sequential | 524 K \n",
      "3 | loss_mse     | MSELoss    | 0     \n",
      "  | other params | n/a        | 1     \n",
      "--------------------------------------------\n",
      "788 K     Trainable params\n",
      "0         Non-trainable params\n",
      "788 K     Total params\n",
      "3.154     Total estimated model params size (MB)\n"
     ]
    },
    {
     "name": "stdout",
     "output_type": "stream",
     "text": [
      "                                                                            "
     ]
    },
    {
     "name": "stderr",
     "output_type": "stream",
     "text": [
      "/home/matteoc/miniconda3/envs/speech-meg/lib/python3.9/site-packages/pytorch_lightning/trainer/connectors/data_connector.py:441: The 'val_dataloader' does not have many workers which may be a bottleneck. Consider increasing the value of the `num_workers` argument` to `num_workers=255` in the `DataLoader` to improve performance.\n",
      "/home/matteoc/miniconda3/envs/speech-meg/lib/python3.9/site-packages/pytorch_lightning/trainer/connectors/data_connector.py:441: The 'train_dataloader' does not have many workers which may be a bottleneck. Consider increasing the value of the `num_workers` argument` to `num_workers=255` in the `DataLoader` to improve performance.\n"
     ]
    },
    {
     "name": "stdout",
     "output_type": "stream",
     "text": [
      "Epoch 0: 100%|██████████| 63/63 [00:00<00:00, 180.82it/s, v_num=90, train_loss_step=3.750, tau=0.0501, val_loss=4.370, train_loss_epoch=4.680]"
     ]
    },
    {
     "name": "stderr",
     "output_type": "stream",
     "text": [
      "Metric val_loss improved. New best score: 4.373\n"
     ]
    },
    {
     "name": "stdout",
     "output_type": "stream",
     "text": [
      "Epoch 1: 100%|██████████| 63/63 [00:00<00:00, 172.73it/s, v_num=90, train_loss_step=3.260, tau=0.0497, val_loss=3.980, train_loss_epoch=4.100]"
     ]
    },
    {
     "name": "stderr",
     "output_type": "stream",
     "text": [
      "Metric val_loss improved by 0.390 >= min_delta = 0.09. New best score: 3.983\n"
     ]
    },
    {
     "name": "stdout",
     "output_type": "stream",
     "text": [
      "Epoch 2: 100%|██████████| 63/63 [00:00<00:00, 183.05it/s, v_num=90, train_loss_step=2.750, tau=0.0492, val_loss=3.720, train_loss_epoch=3.670]"
     ]
    },
    {
     "name": "stderr",
     "output_type": "stream",
     "text": [
      "Metric val_loss improved by 0.268 >= min_delta = 0.09. New best score: 3.716\n"
     ]
    },
    {
     "name": "stdout",
     "output_type": "stream",
     "text": [
      "Epoch 3: 100%|██████████| 63/63 [00:00<00:00, 185.26it/s, v_num=90, train_loss_step=2.580, tau=0.0487, val_loss=3.530, train_loss_epoch=3.360]"
     ]
    },
    {
     "name": "stderr",
     "output_type": "stream",
     "text": [
      "Metric val_loss improved by 0.184 >= min_delta = 0.09. New best score: 3.531\n"
     ]
    },
    {
     "name": "stdout",
     "output_type": "stream",
     "text": [
      "Epoch 4: 100%|██████████| 63/63 [00:00<00:00, 180.70it/s, v_num=90, train_loss_step=2.370, tau=0.0482, val_loss=3.400, train_loss_epoch=3.100]"
     ]
    },
    {
     "name": "stderr",
     "output_type": "stream",
     "text": [
      "Metric val_loss improved by 0.134 >= min_delta = 0.09. New best score: 3.398\n"
     ]
    },
    {
     "name": "stdout",
     "output_type": "stream",
     "text": [
      "Epoch 5: 100%|██████████| 63/63 [00:00<00:00, 153.50it/s, v_num=90, train_loss_step=2.320, tau=0.0478, val_loss=3.280, train_loss_epoch=2.900]"
     ]
    },
    {
     "name": "stderr",
     "output_type": "stream",
     "text": [
      "Metric val_loss improved by 0.113 >= min_delta = 0.09. New best score: 3.285\n"
     ]
    },
    {
     "name": "stdout",
     "output_type": "stream",
     "text": [
      "Epoch 7: 100%|██████████| 63/63 [00:00<00:00, 193.32it/s, v_num=90, train_loss_step=2.050, tau=0.0469, val_loss=3.130, train_loss_epoch=2.580]"
     ]
    },
    {
     "name": "stderr",
     "output_type": "stream",
     "text": [
      "Metric val_loss improved by 0.158 >= min_delta = 0.09. New best score: 3.126\n"
     ]
    },
    {
     "name": "stdout",
     "output_type": "stream",
     "text": [
      "Epoch 9: 100%|██████████| 63/63 [00:00<00:00, 188.79it/s, v_num=90, train_loss_step=1.700, tau=0.0461, val_loss=3.000, train_loss_epoch=2.310]"
     ]
    },
    {
     "name": "stderr",
     "output_type": "stream",
     "text": [
      "Metric val_loss improved by 0.130 >= min_delta = 0.09. New best score: 2.996\n"
     ]
    },
    {
     "name": "stdout",
     "output_type": "stream",
     "text": [
      "Epoch 11: 100%|██████████| 63/63 [00:00<00:00, 194.37it/s, v_num=90, train_loss_step=1.460, tau=0.0454, val_loss=2.900, train_loss_epoch=2.090]"
     ]
    },
    {
     "name": "stderr",
     "output_type": "stream",
     "text": [
      "Metric val_loss improved by 0.093 >= min_delta = 0.09. New best score: 2.903\n"
     ]
    },
    {
     "name": "stdout",
     "output_type": "stream",
     "text": [
      "Epoch 14: 100%|██████████| 63/63 [00:00<00:00, 190.89it/s, v_num=90, train_loss_step=1.330, tau=0.0443, val_loss=2.790, train_loss_epoch=1.820]"
     ]
    },
    {
     "name": "stderr",
     "output_type": "stream",
     "text": [
      "Metric val_loss improved by 0.115 >= min_delta = 0.09. New best score: 2.788\n"
     ]
    },
    {
     "name": "stdout",
     "output_type": "stream",
     "text": [
      "Epoch 18: 100%|██████████| 63/63 [00:00<00:00, 158.95it/s, v_num=90, train_loss_step=1.010, tau=0.043, val_loss=2.690, train_loss_epoch=1.520] "
     ]
    },
    {
     "name": "stderr",
     "output_type": "stream",
     "text": [
      "Metric val_loss improved by 0.099 >= min_delta = 0.09. New best score: 2.688\n"
     ]
    },
    {
     "name": "stdout",
     "output_type": "stream",
     "text": [
      "Epoch 24: 100%|██████████| 63/63 [00:00<00:00, 200.61it/s, v_num=90, train_loss_step=0.782, tau=0.0411, val_loss=2.580, train_loss_epoch=1.180]"
     ]
    },
    {
     "name": "stderr",
     "output_type": "stream",
     "text": [
      "Metric val_loss improved by 0.103 >= min_delta = 0.09. New best score: 2.585\n"
     ]
    },
    {
     "name": "stdout",
     "output_type": "stream",
     "text": [
      "Epoch 34: 100%|██████████| 63/63 [00:00<00:00, 180.45it/s, v_num=90, train_loss_step=0.473, tau=0.0385, val_loss=2.510, train_loss_epoch=0.788]"
     ]
    },
    {
     "name": "stderr",
     "output_type": "stream",
     "text": [
      "Monitored metric val_loss did not improve in the last 10 records. Best score: 2.585. Signaling Trainer to stop.\n"
     ]
    },
    {
     "name": "stdout",
     "output_type": "stream",
     "text": [
      "Epoch 34: 100%|██████████| 63/63 [00:00<00:00, 159.41it/s, v_num=90, train_loss_step=0.473, tau=0.0385, val_loss=2.510, train_loss_epoch=0.788]\n"
     ]
    }
   ],
   "source": [
    "pl.seed_everything(seed, workers=True)\n",
    "model_random = SoftMapping(input_dim=1024, output_dim=512, lr=1e-4, tau=0.05)\n",
    "logger = CSVLogger(\"/home/repo/nlinear-monkeys/logs/\", name=\"my_model\")\n",
    "early_stop_callback = EarlyStopping(monitor=\"val_loss\", min_delta=0.09, patience=10, verbose=True, mode=\"min\")\n",
    "trainer = Trainer(max_epochs=100, devices=[cuda_d], logger=logger, callbacks=[early_stop_callback])  \n",
    "trainer.fit(model_random, train_loader_rand, val_loader_rand)"
   ]
  },
  {
   "cell_type": "code",
   "execution_count": 121,
   "metadata": {},
   "outputs": [
    {
     "name": "stderr",
     "output_type": "stream",
     "text": [
      "100%|██████████| 1/1 [00:00<00:00, 515.14it/s]"
     ]
    },
    {
     "name": "stdout",
     "output_type": "stream",
     "text": [
      "Top-1 accuracy: 50/100 (50.00%)\n",
      "Top-5 accuracy: 82/100 (82.00%)\n"
     ]
    },
    {
     "name": "stderr",
     "output_type": "stream",
     "text": [
      "\n"
     ]
    }
   ],
   "source": [
    "x,y = next(iter(test_loader_rand))\n",
    "\n",
    "y_pred=[]\n",
    "y_true=[]\n",
    "\n",
    "with torch.no_grad():\n",
    "    for x,y in tqdm.tqdm(test_loader_rand):\n",
    "        model_rand = model_random.to(device)\n",
    "        y_hat, _ = model_rand(x)\n",
    "        y_true.append(y)\n",
    "        y_pred.append(y_hat)\n",
    "y_pred=torch.cat(y_pred,0)\n",
    "y_true=torch.cat(y_true,0)\n",
    "\n",
    "\n",
    "y_true_np = y_true.cpu().numpy()\n",
    "y_pred_np = y_pred.cpu().numpy()\n",
    "nbrs = NearestNeighbors(n_neighbors=5, metric='cosine').fit(y_true_np)\n",
    "\n",
    "distances, top_indices = nbrs.kneighbors(y_pred_np)\n",
    "true_indices = torch.arange(len(y_true_np)).cpu().numpy()\n",
    "\n",
    "top1_count = (top_indices[:, 0] == true_indices).sum()\n",
    "top3_count = sum(true_idx in top_indices[i] for i, true_idx in enumerate(true_indices))\n",
    "\n",
    "print(f\"Top-1 accuracy: {top1_count}/{len(y_true_np)} ({top1_count / len(y_true_np) * 100:.2f}%)\")\n",
    "print(f\"Top-5 accuracy: {top3_count}/{len(y_true_np)} ({top3_count / len(y_true_np) * 100:.2f}%)\")"
   ]
  },
  {
   "cell_type": "code",
   "execution_count": null,
   "metadata": {},
   "outputs": [
    {
     "data": {
      "image/png": "[encoded data removed]",
      "text/plain": [
       "<Figure size 800x600 with 1 Axes>"
      ]
     },
     "metadata": {},
     "output_type": "display_data"
    }
   ],
   "source": [
    "sample_sizes = [10, 100, 500, 1000, 5000, 10000, 15000]  \n",
    "top1_acc = [1.0, 3.0, 10.0, 18.0, 45.0, 51.0, 66.0]\n",
    "top5_acc = [6.0, 10.0, 37.0, 46.0, 79.0, 83.0, 90.0]\n",
    "\n",
    "plt.figure(figsize=(8, 6))\n",
    "plt.plot(sample_sizes, top1_acc, marker='o', label='Top-1 Accuracy')\n",
    "plt.plot(sample_sizes, top5_acc, marker='s', label='Top-5 Accuracy')\n",
    "\n",
    "plt.xscale('linear')  # scala logaritmica crescente\n",
    "plt.xlabel('Training Sample Size')\n",
    "plt.ylabel('Accuracy (%)')\n",
    "plt.title('Scaling Law - Accuracy vs Training Size')\n",
    "plt.legend()\n",
    "plt.grid(False)\n",
    "ax = plt.gca()\n",
    "ax.spines['top'].set_visible(False)\n",
    "ax.spines['right'].set_visible(False)\n",
    "plt.tight_layout()\n",
    "plt.show()"
   ]
  },
  {
   "cell_type": "markdown",
   "metadata": {},
   "source": [
    "## Ridge Regression"
   ]
  },
  {
   "cell_type": "code",
   "execution_count": 92,
   "metadata": {},
   "outputs": [],
   "source": [
    "X_train_ridge = X_scaled.reshape(15000, 200, 1024)\n",
    "X_test_ridge = X_test_scaled.reshape(100, 200, 1024)"
   ]
  },
  {
   "cell_type": "code",
   "execution_count": 87,
   "metadata": {},
   "outputs": [],
   "source": [
    "top_global_channels_mv = np.array([t.item() for t in top_global_channels])\n",
    "\n",
    "X_train_ridge = X_train_ridge[:, :, top_global_channels_mv]\n",
    "X_test_ridge = X_test_ridge[:, :, top_global_channels_mv]"
   ]
  },
  {
   "cell_type": "code",
   "execution_count": 100,
   "metadata": {},
   "outputs": [
    {
     "data": {
      "text/plain": [
       "((15000, 200, 1024),\n",
       " (100, 200, 1024),\n",
       " 2.8071032442955614e-15,\n",
       " 0.9999999999999949,\n",
       " -0.012036878,\n",
       " 0.47685653)"
      ]
     },
     "execution_count": 100,
     "metadata": {},
     "output_type": "execute_result"
    }
   ],
   "source": [
    "X_train_ridge.shape, X_test_ridge.shape, X_train_ridge.mean(), X_train_ridge.std(), Y_train.mean(), Y_train.std()"
   ]
  },
  {
   "cell_type": "code",
   "execution_count": 98,
   "metadata": {},
   "outputs": [],
   "source": [
    "from himalaya.ridge import RidgeCV\n",
    "from himalaya.backend import set_backend\n",
    "\n",
    "vm = RidgeCV(alphas=[0.1,1,10,30,50,100,300])  \n",
    "\n",
    "device_id = 1\n",
    "backend = set_backend(\"torch_cuda\")\n",
    "X_train_F = backend.asarray(torch.tensor(X_train_ridge).float().mean(dim=1).to(f'cuda:{device_id}'))\n",
    "Y_train_F = backend.asarray(torch.tensor(Y_train).float().to(f'cuda:{device_id}')) \n",
    "X_test_F = backend.asarray(torch.tensor(X_test_ridge).float().mean(dim=1).to(f'cuda:{device_id}'))     \n",
    "\n",
    "vm.fit(X_train_F, Y_train_F)\n",
    "y_pred_F = vm.predict(X_test_F)"
   ]
  },
  {
   "cell_type": "code",
   "execution_count": 99,
   "metadata": {},
   "outputs": [
    {
     "name": "stdout",
     "output_type": "stream",
     "text": [
      "Top-1 accuracy: 37/100 (37.00%)\n",
      "Top-5 accuracy: 69/100 (69.00%)\n"
     ]
    }
   ],
   "source": [
    "from sklearn.neighbors import NearestNeighbors\n",
    "\n",
    "y_true_np = y_true.cpu().numpy()\n",
    "nbrs = NearestNeighbors(n_neighbors=5, metric='cosine').fit(y_true_np)\n",
    "\n",
    "distances, top_indices = nbrs.kneighbors(y_pred_F)\n",
    "true_indices = torch.arange(len(y_true_np)).cpu().numpy()\n",
    "\n",
    "top1_count = (top_indices[:, 0] == true_indices).sum()\n",
    "top3_count = sum(true_idx in top_indices[i] for i, true_idx in enumerate(true_indices))\n",
    "\n",
    "print(f\"Top-1 accuracy: {top1_count}/{len(y_true_np)} ({top1_count / len(y_true_np) * 100:.2f}%)\")\n",
    "print(f\"Top-5 accuracy: {top3_count}/{len(y_true_np)} ({top3_count / len(y_true_np) * 100:.2f}%)\")"
   ]
  },
  {
   "cell_type": "code",
   "execution_count": null,
   "metadata": {},
   "outputs": [],
   "source": []
  },
  {
   "cell_type": "code",
   "execution_count": null,
   "metadata": {},
   "outputs": [],
   "source": []
  }
 ],
 "metadata": {
  "kernelspec": {
   "display_name": "speech-meg",
   "language": "python",
   "name": "python3"
  },
  "language_info": {
   "codemirror_mode": {
    "name": "ipython",
    "version": 3
   },
   "file_extension": ".py",
   "mimetype": "text/x-python",
   "name": "python",
   "nbconvert_exporter": "python",
   "pygments_lexer": "ipython3",
   "version": "3.9.16"
  }
 },
 "nbformat": 4,
 "nbformat_minor": 2
}
